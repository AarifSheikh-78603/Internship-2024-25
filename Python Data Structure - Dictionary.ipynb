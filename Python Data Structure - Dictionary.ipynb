{
  "nbformat": 4,
  "nbformat_minor": 0,
  "metadata": {
    "colab": {
      "provenance": [],
      "collapsed_sections": [
        "j3QmU-exWBll",
        "-z-ykalWWFmN",
        "CM-v263kWZND",
        "sUWjV52qZnE-",
        "Z_TfanoLZrFH",
        "uxDlXDUTbJI_",
        "Kxgv0rRUcLl3",
        "b4FB2fJZfdrE",
        "7Pn32BZoeGaz",
        "dits1lT4hXVS",
        "27Fam45pgnI_",
        "et2ZQz5hgvgL",
        "fsdCbuArhBQ8"
      ],
      "authorship_tag": "ABX9TyOOT4bx9thCC4sH5ZlcL+FR",
      "include_colab_link": true
    },
    "kernelspec": {
      "name": "python3",
      "display_name": "Python 3"
    },
    "language_info": {
      "name": "python"
    }
  },
  "cells": [
    {
      "cell_type": "markdown",
      "metadata": {
        "id": "view-in-github",
        "colab_type": "text"
      },
      "source": [
        "<a href=\"https://colab.research.google.com/github/AarifSheikh-78603/Internship-2024-25/blob/main/Python%20Data%20Structure%20-%20Dictionary.ipynb\" target=\"_parent\"><img src=\"https://colab.research.google.com/assets/colab-badge.svg\" alt=\"Open In Colab\"/></a>"
      ]
    },
    {
      "cell_type": "markdown",
      "source": [
        "# DICTIONARY"
      ],
      "metadata": {
        "id": "j3QmU-exWBll"
      }
    },
    {
      "cell_type": "markdown",
      "source": [
        "## Create an empty dictionary"
      ],
      "metadata": {
        "id": "-z-ykalWWFmN"
      }
    },
    {
      "cell_type": "code",
      "execution_count": 1,
      "metadata": {
        "colab": {
          "base_uri": "https://localhost:8080/"
        },
        "id": "HwdPh26JV2Ui",
        "outputId": "d61f4eb4-ad99-4864-9ee9-92ec46ba6b44"
      },
      "outputs": [
        {
          "output_type": "execute_result",
          "data": {
            "text/plain": [
              "{}"
            ]
          },
          "metadata": {},
          "execution_count": 1
        }
      ],
      "source": [
        "Dict1={}\n",
        "Dict1"
      ]
    },
    {
      "cell_type": "code",
      "source": [
        "Dict1=dict()\n",
        "Dict1"
      ],
      "metadata": {
        "colab": {
          "base_uri": "https://localhost:8080/"
        },
        "id": "9PfCYadPWTYS",
        "outputId": "bf5b8461-a909-4b3a-fc0f-96d87206556c"
      },
      "execution_count": 2,
      "outputs": [
        {
          "output_type": "execute_result",
          "data": {
            "text/plain": [
              "{}"
            ]
          },
          "metadata": {},
          "execution_count": 2
        }
      ]
    },
    {
      "cell_type": "markdown",
      "source": [
        "## Create Dictionary."
      ],
      "metadata": {
        "id": "CM-v263kWZND"
      }
    },
    {
      "cell_type": "code",
      "source": [
        "Dict1={1:'a',2:'b',3:'c'}\n",
        "Dict1"
      ],
      "metadata": {
        "colab": {
          "base_uri": "https://localhost:8080/"
        },
        "id": "5HpOZKPqWkmp",
        "outputId": "3d0ecab9-c100-4a09-e9d2-5b79e16a139a"
      },
      "execution_count": 3,
      "outputs": [
        {
          "output_type": "execute_result",
          "data": {
            "text/plain": [
              "{1: 'a', 2: 'b', 3: 'c'}"
            ]
          },
          "metadata": {},
          "execution_count": 3
        }
      ]
    },
    {
      "cell_type": "code",
      "source": [
        "Dict1=dict({1:'a',2:'b',3:'c'})\n",
        "Dict1"
      ],
      "metadata": {
        "colab": {
          "base_uri": "https://localhost:8080/"
        },
        "id": "yemKdwuBZU13",
        "outputId": "ca003acf-0fe2-4af0-f3f7-9116cd25a719"
      },
      "execution_count": 4,
      "outputs": [
        {
          "output_type": "execute_result",
          "data": {
            "text/plain": [
              "{1: 'a', 2: 'b', 3: 'c'}"
            ]
          },
          "metadata": {},
          "execution_count": 4
        }
      ]
    },
    {
      "cell_type": "code",
      "source": [
        "D1={'Rahmanullah Gurbaz (AFG)': '281', 'RG Sharma (IND)': '257', 'TM Head (AUS)': '255', 'Q de Kock (SA)': '243', 'Ibrahim Zadran (AFG)': '231', 'N Pooran (WI)': '228', 'AGS Gous (USA)': '219', 'JC Buttler (ENG)': '214'}\n",
        "D1"
      ],
      "metadata": {
        "colab": {
          "base_uri": "https://localhost:8080/"
        },
        "id": "umAUuDjSZZbl",
        "outputId": "cde3709f-0cb4-4d9e-b787-e3d26d6d70b8"
      },
      "execution_count": 5,
      "outputs": [
        {
          "output_type": "execute_result",
          "data": {
            "text/plain": [
              "{'Rahmanullah Gurbaz (AFG)': '281',\n",
              " 'RG Sharma (IND)': '257',\n",
              " 'TM Head (AUS)': '255',\n",
              " 'Q de Kock (SA)': '243',\n",
              " 'Ibrahim Zadran (AFG)': '231',\n",
              " 'N Pooran (WI)': '228',\n",
              " 'AGS Gous (USA)': '219',\n",
              " 'JC Buttler (ENG)': '214'}"
            ]
          },
          "metadata": {},
          "execution_count": 5
        }
      ]
    },
    {
      "cell_type": "markdown",
      "source": [
        "#Accessing Values In Dictionary"
      ],
      "metadata": {
        "id": "sUWjV52qZnE-"
      }
    },
    {
      "cell_type": "markdown",
      "source": [
        "## For accessing dictionary items using - []"
      ],
      "metadata": {
        "id": "Z_TfanoLZrFH"
      }
    },
    {
      "cell_type": "code",
      "source": [
        "D1['Rahmanullah Gurbaz (AFG)']"
      ],
      "metadata": {
        "colab": {
          "base_uri": "https://localhost:8080/",
          "height": 0
        },
        "id": "5skSx6uCZ7TJ",
        "outputId": "77b2f775-6549-4fff-a93c-723dc6ade4a2"
      },
      "execution_count": 6,
      "outputs": [
        {
          "output_type": "execute_result",
          "data": {
            "text/plain": [
              "'281'"
            ],
            "application/vnd.google.colaboratory.intrinsic+json": {
              "type": "string"
            }
          },
          "metadata": {},
          "execution_count": 6
        }
      ]
    },
    {
      "cell_type": "code",
      "source": [
        "D1['RG Sharma (IND)']"
      ],
      "metadata": {
        "colab": {
          "base_uri": "https://localhost:8080/",
          "height": 0
        },
        "id": "0d4E-_NvaDQY",
        "outputId": "5127f4e1-2014-4e75-d451-cf91d91efab5"
      },
      "execution_count": 7,
      "outputs": [
        {
          "output_type": "execute_result",
          "data": {
            "text/plain": [
              "'257'"
            ],
            "application/vnd.google.colaboratory.intrinsic+json": {
              "type": "string"
            }
          },
          "metadata": {},
          "execution_count": 7
        }
      ]
    },
    {
      "cell_type": "markdown",
      "source": [
        "## For accessing dictionary items using - get()"
      ],
      "metadata": {
        "id": "zeohsWuyakLk"
      }
    },
    {
      "cell_type": "code",
      "source": [
        "D1.get('Rahmanullah Gurbaz (AFG)')"
      ],
      "metadata": {
        "colab": {
          "base_uri": "https://localhost:8080/",
          "height": 0
        },
        "id": "t-5tUM3Kan99",
        "outputId": "c80b432d-1dce-4152-b850-ae9c457c4b1d"
      },
      "execution_count": 8,
      "outputs": [
        {
          "output_type": "execute_result",
          "data": {
            "text/plain": [
              "'281'"
            ],
            "application/vnd.google.colaboratory.intrinsic+json": {
              "type": "string"
            }
          },
          "metadata": {},
          "execution_count": 8
        }
      ]
    },
    {
      "cell_type": "code",
      "source": [
        "D1.get('RG Sharma (IND)')"
      ],
      "metadata": {
        "colab": {
          "base_uri": "https://localhost:8080/",
          "height": 0
        },
        "id": "tcXh69Niaq6M",
        "outputId": "e9a99f05-53f9-46d1-8b11-2342502c3213"
      },
      "execution_count": 9,
      "outputs": [
        {
          "output_type": "execute_result",
          "data": {
            "text/plain": [
              "'257'"
            ],
            "application/vnd.google.colaboratory.intrinsic+json": {
              "type": "string"
            }
          },
          "metadata": {},
          "execution_count": 9
        }
      ]
    },
    {
      "cell_type": "markdown",
      "source": [
        "# Updating Dictionary"
      ],
      "metadata": {
        "id": "OlLagxBRbD_k"
      }
    },
    {
      "cell_type": "markdown",
      "source": [
        "## Updating values in dictionary"
      ],
      "metadata": {
        "id": "uxDlXDUTbJI_"
      }
    },
    {
      "cell_type": "code",
      "source": [
        "D1['Rahmanullah Gurbaz (AFG)']=282\n",
        "D1"
      ],
      "metadata": {
        "colab": {
          "base_uri": "https://localhost:8080/"
        },
        "id": "tcnAmSuLbJXa",
        "outputId": "5abade48-d333-4034-c6e0-eff9d52accb9"
      },
      "execution_count": 10,
      "outputs": [
        {
          "output_type": "execute_result",
          "data": {
            "text/plain": [
              "{'Rahmanullah Gurbaz (AFG)': 282,\n",
              " 'RG Sharma (IND)': '257',\n",
              " 'TM Head (AUS)': '255',\n",
              " 'Q de Kock (SA)': '243',\n",
              " 'Ibrahim Zadran (AFG)': '231',\n",
              " 'N Pooran (WI)': '228',\n",
              " 'AGS Gous (USA)': '219',\n",
              " 'JC Buttler (ENG)': '214'}"
            ]
          },
          "metadata": {},
          "execution_count": 10
        }
      ]
    },
    {
      "cell_type": "code",
      "source": [
        "D1['RG Sharma (IND)']=300\n",
        "D1"
      ],
      "metadata": {
        "colab": {
          "base_uri": "https://localhost:8080/"
        },
        "id": "Cx4Io3XZcFuk",
        "outputId": "aae2621a-e05e-460b-9096-a160b299ef5f"
      },
      "execution_count": 11,
      "outputs": [
        {
          "output_type": "execute_result",
          "data": {
            "text/plain": [
              "{'Rahmanullah Gurbaz (AFG)': 282,\n",
              " 'RG Sharma (IND)': 300,\n",
              " 'TM Head (AUS)': '255',\n",
              " 'Q de Kock (SA)': '243',\n",
              " 'Ibrahim Zadran (AFG)': '231',\n",
              " 'N Pooran (WI)': '228',\n",
              " 'AGS Gous (USA)': '219',\n",
              " 'JC Buttler (ENG)': '214'}"
            ]
          },
          "metadata": {},
          "execution_count": 11
        }
      ]
    },
    {
      "cell_type": "markdown",
      "source": [
        "## Add new item in dictionary"
      ],
      "metadata": {
        "id": "Kxgv0rRUcLl3"
      }
    },
    {
      "cell_type": "code",
      "source": [
        "D1['SA Yadav (IND)', 'H Klaasen (SA)'] = '199', '190'\n",
        "D1"
      ],
      "metadata": {
        "colab": {
          "base_uri": "https://localhost:8080/"
        },
        "id": "YIWXuA3ycUHK",
        "outputId": "27792fe9-8818-4c4a-ddd2-c8d9a31bffbf"
      },
      "execution_count": 12,
      "outputs": [
        {
          "output_type": "execute_result",
          "data": {
            "text/plain": [
              "{'Rahmanullah Gurbaz (AFG)': 282,\n",
              " 'RG Sharma (IND)': 300,\n",
              " 'TM Head (AUS)': '255',\n",
              " 'Q de Kock (SA)': '243',\n",
              " 'Ibrahim Zadran (AFG)': '231',\n",
              " 'N Pooran (WI)': '228',\n",
              " 'AGS Gous (USA)': '219',\n",
              " 'JC Buttler (ENG)': '214',\n",
              " ('SA Yadav (IND)', 'H Klaasen (SA)'): ('199', '190')}"
            ]
          },
          "metadata": {},
          "execution_count": 12
        }
      ]
    },
    {
      "cell_type": "markdown",
      "source": [
        "# Deleting items in dictionary"
      ],
      "metadata": {
        "id": "hoUFknvjfdMe"
      }
    },
    {
      "cell_type": "markdown",
      "source": [
        "## pop() - Removes the element with the specified key"
      ],
      "metadata": {
        "id": "b4FB2fJZfdrE"
      }
    },
    {
      "cell_type": "code",
      "source": [
        "D1.pop('Rahmanullah Gurbaz (AFG)')\n",
        "D1"
      ],
      "metadata": {
        "colab": {
          "base_uri": "https://localhost:8080/"
        },
        "id": "yVCb77S5fmGW",
        "outputId": "0d49a622-c59b-41c9-d606-167455ac963a"
      },
      "execution_count": 13,
      "outputs": [
        {
          "output_type": "execute_result",
          "data": {
            "text/plain": [
              "{'RG Sharma (IND)': 300,\n",
              " 'TM Head (AUS)': '255',\n",
              " 'Q de Kock (SA)': '243',\n",
              " 'Ibrahim Zadran (AFG)': '231',\n",
              " 'N Pooran (WI)': '228',\n",
              " 'AGS Gous (USA)': '219',\n",
              " 'JC Buttler (ENG)': '214',\n",
              " ('SA Yadav (IND)', 'H Klaasen (SA)'): ('199', '190')}"
            ]
          },
          "metadata": {},
          "execution_count": 13
        }
      ]
    },
    {
      "cell_type": "code",
      "source": [
        "D1.popitem()"
      ],
      "metadata": {
        "colab": {
          "base_uri": "https://localhost:8080/"
        },
        "id": "QPmG8lY2fulN",
        "outputId": "a8885bed-0f5a-40e6-9b04-4a387d7a02db"
      },
      "execution_count": 14,
      "outputs": [
        {
          "output_type": "execute_result",
          "data": {
            "text/plain": [
              "(('SA Yadav (IND)', 'H Klaasen (SA)'), ('199', '190'))"
            ]
          },
          "metadata": {},
          "execution_count": 14
        }
      ]
    },
    {
      "cell_type": "markdown",
      "source": [
        "# Built-in Functions & Methods For Dictionary"
      ],
      "metadata": {
        "id": "7Pn32BZoeGaz"
      }
    },
    {
      "cell_type": "markdown",
      "source": [
        "## Dataset"
      ],
      "metadata": {
        "id": "dits1lT4hXVS"
      }
    },
    {
      "cell_type": "code",
      "source": [
        "D1"
      ],
      "metadata": {
        "id": "KLTsF4TveONS",
        "colab": {
          "base_uri": "https://localhost:8080/"
        },
        "outputId": "598d320f-b9a8-47a7-f3b8-1a27a260aafa"
      },
      "execution_count": 15,
      "outputs": [
        {
          "output_type": "execute_result",
          "data": {
            "text/plain": [
              "{'RG Sharma (IND)': 300,\n",
              " 'TM Head (AUS)': '255',\n",
              " 'Q de Kock (SA)': '243',\n",
              " 'Ibrahim Zadran (AFG)': '231',\n",
              " 'N Pooran (WI)': '228',\n",
              " 'AGS Gous (USA)': '219',\n",
              " 'JC Buttler (ENG)': '214'}"
            ]
          },
          "metadata": {},
          "execution_count": 15
        }
      ]
    },
    {
      "cell_type": "markdown",
      "source": [
        "## copy() - Returns a copy of the dictionary."
      ],
      "metadata": {
        "id": "27Fam45pgnI_"
      }
    },
    {
      "cell_type": "code",
      "source": [
        "D2=D1.copy()\n",
        "D2"
      ],
      "metadata": {
        "colab": {
          "base_uri": "https://localhost:8080/"
        },
        "id": "u7okR1rLeUll",
        "outputId": "a609e257-66b2-4077-9030-c6c57104b37e"
      },
      "execution_count": 16,
      "outputs": [
        {
          "output_type": "execute_result",
          "data": {
            "text/plain": [
              "{'RG Sharma (IND)': 300,\n",
              " 'TM Head (AUS)': '255',\n",
              " 'Q de Kock (SA)': '243',\n",
              " 'Ibrahim Zadran (AFG)': '231',\n",
              " 'N Pooran (WI)': '228',\n",
              " 'AGS Gous (USA)': '219',\n",
              " 'JC Buttler (ENG)': '214'}"
            ]
          },
          "metadata": {},
          "execution_count": 16
        }
      ]
    },
    {
      "cell_type": "markdown",
      "source": [
        "## keys() - Returns a list containing the dictionary's keys."
      ],
      "metadata": {
        "id": "et2ZQz5hgvgL"
      }
    },
    {
      "cell_type": "code",
      "source": [
        "D1.keys()"
      ],
      "metadata": {
        "colab": {
          "base_uri": "https://localhost:8080/"
        },
        "id": "F3BuutSWeYck",
        "outputId": "27af522e-6ce4-4e85-99d1-89ab25b9cfd8"
      },
      "execution_count": 17,
      "outputs": [
        {
          "output_type": "execute_result",
          "data": {
            "text/plain": [
              "dict_keys(['RG Sharma (IND)', 'TM Head (AUS)', 'Q de Kock (SA)', 'Ibrahim Zadran (AFG)', 'N Pooran (WI)', 'AGS Gous (USA)', 'JC Buttler (ENG)'])"
            ]
          },
          "metadata": {},
          "execution_count": 17
        }
      ]
    },
    {
      "cell_type": "markdown",
      "source": [
        "## values() - Returns a list containing the dictionary's values."
      ],
      "metadata": {
        "id": "fsdCbuArhBQ8"
      }
    },
    {
      "cell_type": "code",
      "source": [
        "D1.values()"
      ],
      "metadata": {
        "colab": {
          "base_uri": "https://localhost:8080/"
        },
        "id": "lLc7IiUDeixr",
        "outputId": "74dba984-5b5f-4957-f12a-f0762196c883"
      },
      "execution_count": 18,
      "outputs": [
        {
          "output_type": "execute_result",
          "data": {
            "text/plain": [
              "dict_values([300, '255', '243', '231', '228', '219', '214'])"
            ]
          },
          "metadata": {},
          "execution_count": 18
        }
      ]
    },
    {
      "cell_type": "markdown",
      "source": [
        "## item() - Returns a list containing the tuple for each key value pair."
      ],
      "metadata": {
        "id": "iKaZFLvqg-pH"
      }
    },
    {
      "cell_type": "code",
      "source": [
        "for i in D1.items():\n",
        "    print(i)"
      ],
      "metadata": {
        "colab": {
          "base_uri": "https://localhost:8080/"
        },
        "id": "Tv_WgNnrexJu",
        "outputId": "5ee50837-c90b-484e-b6b4-29214515ca1a"
      },
      "execution_count": 19,
      "outputs": [
        {
          "output_type": "stream",
          "name": "stdout",
          "text": [
            "('RG Sharma (IND)', 300)\n",
            "('TM Head (AUS)', '255')\n",
            "('Q de Kock (SA)', '243')\n",
            "('Ibrahim Zadran (AFG)', '231')\n",
            "('N Pooran (WI)', '228')\n",
            "('AGS Gous (USA)', '219')\n",
            "('JC Buttler (ENG)', '214')\n"
          ]
        }
      ]
    },
    {
      "cell_type": "markdown",
      "source": [
        "## len() - Returns the length of the dictionary."
      ],
      "metadata": {
        "id": "CktRFLx1hfaZ"
      }
    },
    {
      "cell_type": "code",
      "source": [
        "len(D1)"
      ],
      "metadata": {
        "colab": {
          "base_uri": "https://localhost:8080/"
        },
        "id": "PA3_0vbQhmlt",
        "outputId": "2a935102-c213-4f93-c226-6377a6d8488b"
      },
      "execution_count": 20,
      "outputs": [
        {
          "output_type": "execute_result",
          "data": {
            "text/plain": [
              "7"
            ]
          },
          "metadata": {},
          "execution_count": 20
        }
      ]
    }
  ]
}