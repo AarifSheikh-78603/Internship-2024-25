{
  "nbformat": 4,
  "nbformat_minor": 0,
  "metadata": {
    "colab": {
      "provenance": [],
      "authorship_tag": "ABX9TyPTku1Dp6RDIUq+13+U9jdC",
      "include_colab_link": true
    },
    "kernelspec": {
      "name": "python3",
      "display_name": "Python 3"
    },
    "language_info": {
      "name": "python"
    }
  },
  "cells": [
    {
      "cell_type": "markdown",
      "metadata": {
        "id": "view-in-github",
        "colab_type": "text"
      },
      "source": [
        "<a href=\"https://colab.research.google.com/github/AarifSheikh-78603/Internship-2024-25/blob/main/Essential%20Python%20for%20Data%20Analyst%20-%20Basics%20of%20Python.ipynb\" target=\"_parent\"><img src=\"https://colab.research.google.com/assets/colab-badge.svg\" alt=\"Open In Colab\"/></a>"
      ]
    },
    {
      "cell_type": "markdown",
      "source": [
        "# Commenting In Python"
      ],
      "metadata": {
        "id": "PFeeIp9zYWLt"
      }
    },
    {
      "cell_type": "markdown",
      "source": [
        "## Single Line Comment"
      ],
      "metadata": {
        "id": "aS8g3Gn9YcuF"
      }
    },
    {
      "cell_type": "code",
      "source": [
        "# This is single line comment\n",
        "print(\"# (Hash-Tag) is used for single line comment\")"
      ],
      "metadata": {
        "colab": {
          "base_uri": "https://localhost:8080/"
        },
        "id": "tzEQi_psYgS_",
        "outputId": "cadf105c-dc33-40d7-cbf5-074a8eb76299"
      },
      "execution_count": 1,
      "outputs": [
        {
          "output_type": "stream",
          "name": "stdout",
          "text": [
            "# (Hash-Tag) is used for single line comment\n"
          ]
        }
      ]
    },
    {
      "cell_type": "markdown",
      "source": [
        "## Multiple Line Comments"
      ],
      "metadata": {
        "id": "tbuGv0nnYgrg"
      }
    },
    {
      "cell_type": "code",
      "source": [
        "'''\n",
        "This is multiple line comment\n",
        "This is multiple line comment\n",
        "This is multiple line comment\n",
        "'''\n",
        "print(\" ''' ''' is used for multi line comments.\")"
      ],
      "metadata": {
        "colab": {
          "base_uri": "https://localhost:8080/"
        },
        "id": "RHAvjZYwYkUM",
        "outputId": "bba7ba2a-5238-432f-d2f7-c43e36b2122c"
      },
      "execution_count": 2,
      "outputs": [
        {
          "output_type": "stream",
          "name": "stdout",
          "text": [
            " ''' ''' is used for multi line comments.\n"
          ]
        }
      ]
    },
    {
      "cell_type": "markdown",
      "source": [
        "# Input & Output in Python"
      ],
      "metadata": {
        "id": "PzlGQ85RJtkh"
      }
    },
    {
      "cell_type": "code",
      "source": [
        "# Taking input from the user\n",
        "Input = input(\"Give me an input: \")\n",
        "\n",
        "# Outputting the input\n",
        "print(\"Given Input:\", Input)"
      ],
      "metadata": {
        "colab": {
          "base_uri": "https://localhost:8080/"
        },
        "id": "2AF5o8VoLS8q",
        "outputId": "41f877e6-510f-4b48-b0d9-b172074d46b9"
      },
      "execution_count": 3,
      "outputs": [
        {
          "output_type": "stream",
          "name": "stdout",
          "text": [
            "Give me an input: 6\n",
            "Given Input: 6\n"
          ]
        }
      ]
    },
    {
      "cell_type": "markdown",
      "source": [
        "# Numbers Data Type"
      ],
      "metadata": {
        "id": "N1wfyuOhMnHg"
      }
    },
    {
      "cell_type": "markdown",
      "source": [
        "## Boolean (bool) Data Type"
      ],
      "metadata": {
        "id": "eZ_5J7opOjgC"
      }
    },
    {
      "cell_type": "code",
      "source": [
        "B1=True\n",
        "print(B1)\n",
        "type(B1)"
      ],
      "metadata": {
        "colab": {
          "base_uri": "https://localhost:8080/"
        },
        "id": "GTl9QjnuOmUb",
        "outputId": "fe7735c2-f800-44cc-be2d-4b9319aeec0d"
      },
      "execution_count": 4,
      "outputs": [
        {
          "output_type": "stream",
          "name": "stdout",
          "text": [
            "True\n"
          ]
        },
        {
          "output_type": "execute_result",
          "data": {
            "text/plain": [
              "bool"
            ]
          },
          "metadata": {},
          "execution_count": 4
        }
      ]
    },
    {
      "cell_type": "code",
      "source": [
        "B2=False\n",
        "print(B2)\n",
        "type(B2)"
      ],
      "metadata": {
        "colab": {
          "base_uri": "https://localhost:8080/"
        },
        "id": "bGV1MOSEOpy3",
        "outputId": "57b048d4-ff0b-4112-beaf-dd95c03939ef"
      },
      "execution_count": 5,
      "outputs": [
        {
          "output_type": "stream",
          "name": "stdout",
          "text": [
            "False\n"
          ]
        },
        {
          "output_type": "execute_result",
          "data": {
            "text/plain": [
              "bool"
            ]
          },
          "metadata": {},
          "execution_count": 5
        }
      ]
    },
    {
      "cell_type": "markdown",
      "source": [
        "## Integer Data Type"
      ],
      "metadata": {
        "id": "8wNnvhLgMqbC"
      }
    },
    {
      "cell_type": "code",
      "source": [
        "# Positive Integer\n",
        "a=10\n",
        "print(a)\n",
        "type(a)"
      ],
      "metadata": {
        "colab": {
          "base_uri": "https://localhost:8080/"
        },
        "id": "8hASuswoMwHe",
        "outputId": "4a694ed0-44f8-4535-c49e-d0e510c5ce2a"
      },
      "execution_count": 6,
      "outputs": [
        {
          "output_type": "stream",
          "name": "stdout",
          "text": [
            "10\n"
          ]
        },
        {
          "output_type": "execute_result",
          "data": {
            "text/plain": [
              "int"
            ]
          },
          "metadata": {},
          "execution_count": 6
        }
      ]
    },
    {
      "cell_type": "code",
      "source": [
        "# Negative Integer\n",
        "a=-10\n",
        "print(a)\n",
        "type(a)"
      ],
      "metadata": {
        "colab": {
          "base_uri": "https://localhost:8080/"
        },
        "id": "t0G9H9cfNBck",
        "outputId": "c50f42e7-e9a8-4769-bfcd-c1f13c6af716"
      },
      "execution_count": 7,
      "outputs": [
        {
          "output_type": "stream",
          "name": "stdout",
          "text": [
            "-10\n"
          ]
        },
        {
          "output_type": "execute_result",
          "data": {
            "text/plain": [
              "int"
            ]
          },
          "metadata": {},
          "execution_count": 7
        }
      ]
    },
    {
      "cell_type": "code",
      "source": [
        "#Zero Integer\n",
        "a=0\n",
        "print(a)\n",
        "type(a)"
      ],
      "metadata": {
        "colab": {
          "base_uri": "https://localhost:8080/"
        },
        "id": "N6_u-UXrNGVw",
        "outputId": "226cab14-9985-41f2-d535-a373e0ce8023"
      },
      "execution_count": 8,
      "outputs": [
        {
          "output_type": "stream",
          "name": "stdout",
          "text": [
            "0\n"
          ]
        },
        {
          "output_type": "execute_result",
          "data": {
            "text/plain": [
              "int"
            ]
          },
          "metadata": {},
          "execution_count": 8
        }
      ]
    },
    {
      "cell_type": "markdown",
      "source": [
        "## Floating-Point (Float)"
      ],
      "metadata": {
        "id": "313QB46XNWlz"
      }
    },
    {
      "cell_type": "code",
      "source": [
        "#Positive Floating-Point Number\n",
        "FP=10.5\n",
        "print(FP)\n",
        "type(FP)"
      ],
      "metadata": {
        "colab": {
          "base_uri": "https://localhost:8080/"
        },
        "id": "MYcinST8NmWD",
        "outputId": "e54186a0-46e5-4c00-e57c-78f4e0d24061"
      },
      "execution_count": 9,
      "outputs": [
        {
          "output_type": "stream",
          "name": "stdout",
          "text": [
            "10.5\n"
          ]
        },
        {
          "output_type": "execute_result",
          "data": {
            "text/plain": [
              "float"
            ]
          },
          "metadata": {},
          "execution_count": 9
        }
      ]
    },
    {
      "cell_type": "code",
      "source": [
        "#Negative Floating-Point Number\n",
        "FP=-10.5\n",
        "print(FP)\n",
        "type(FP)"
      ],
      "metadata": {
        "colab": {
          "base_uri": "https://localhost:8080/"
        },
        "id": "pOZ2A9-oNo7I",
        "outputId": "5b4f1732-e815-43c6-f936-9e0f77289ed5"
      },
      "execution_count": 10,
      "outputs": [
        {
          "output_type": "stream",
          "name": "stdout",
          "text": [
            "-10.5\n"
          ]
        },
        {
          "output_type": "execute_result",
          "data": {
            "text/plain": [
              "float"
            ]
          },
          "metadata": {},
          "execution_count": 10
        }
      ]
    },
    {
      "cell_type": "markdown",
      "source": [
        "## Complex Numbers"
      ],
      "metadata": {
        "id": "pyUdzE6SN3aK"
      }
    },
    {
      "cell_type": "code",
      "source": [
        "C=2+3j\n",
        "print(C)\n",
        "type(C)"
      ],
      "metadata": {
        "colab": {
          "base_uri": "https://localhost:8080/"
        },
        "id": "PfuS7NAwN6V4",
        "outputId": "285c1d68-463d-43b9-acd7-c234d2b0012f"
      },
      "execution_count": 11,
      "outputs": [
        {
          "output_type": "stream",
          "name": "stdout",
          "text": [
            "(2+3j)\n"
          ]
        },
        {
          "output_type": "execute_result",
          "data": {
            "text/plain": [
              "complex"
            ]
          },
          "metadata": {},
          "execution_count": 11
        }
      ]
    },
    {
      "cell_type": "code",
      "source": [
        "C=-2-3j\n",
        "print(C)\n",
        "type(C)"
      ],
      "metadata": {
        "colab": {
          "base_uri": "https://localhost:8080/"
        },
        "id": "zo5-TbN4N9m6",
        "outputId": "510ad9e2-3a37-4564-a250-5a3259f0e0a8"
      },
      "execution_count": 12,
      "outputs": [
        {
          "output_type": "stream",
          "name": "stdout",
          "text": [
            "(-2-3j)\n"
          ]
        },
        {
          "output_type": "execute_result",
          "data": {
            "text/plain": [
              "complex"
            ]
          },
          "metadata": {},
          "execution_count": 12
        }
      ]
    },
    {
      "cell_type": "markdown",
      "source": [
        "## Type Conversion"
      ],
      "metadata": {
        "id": "fz12WuxKOGHZ"
      }
    },
    {
      "cell_type": "code",
      "source": [
        "A=10\n",
        "print(A)\n",
        "type(A)"
      ],
      "metadata": {
        "colab": {
          "base_uri": "https://localhost:8080/"
        },
        "id": "qXiTkrODOIkd",
        "outputId": "5a8b7132-7532-47f9-b251-a0c9b2f4dcd1"
      },
      "execution_count": 13,
      "outputs": [
        {
          "output_type": "stream",
          "name": "stdout",
          "text": [
            "10\n"
          ]
        },
        {
          "output_type": "execute_result",
          "data": {
            "text/plain": [
              "int"
            ]
          },
          "metadata": {},
          "execution_count": 13
        }
      ]
    },
    {
      "cell_type": "code",
      "source": [
        "A1=float(A)\n",
        "print(A1)\n",
        "type(A1)"
      ],
      "metadata": {
        "colab": {
          "base_uri": "https://localhost:8080/"
        },
        "id": "dWLn_JtbOPl4",
        "outputId": "b7e380b6-3a28-42c8-bcdd-3704c1071483"
      },
      "execution_count": 14,
      "outputs": [
        {
          "output_type": "stream",
          "name": "stdout",
          "text": [
            "10.0\n"
          ]
        },
        {
          "output_type": "execute_result",
          "data": {
            "text/plain": [
              "float"
            ]
          },
          "metadata": {},
          "execution_count": 14
        }
      ]
    },
    {
      "cell_type": "code",
      "source": [
        "A2=complex(A)\n",
        "print(A2)\n",
        "type(A2)"
      ],
      "metadata": {
        "colab": {
          "base_uri": "https://localhost:8080/"
        },
        "id": "LwxBA28kOUQf",
        "outputId": "e5277876-92ca-4bb9-df10-6e016e4919b5"
      },
      "execution_count": 15,
      "outputs": [
        {
          "output_type": "stream",
          "name": "stdout",
          "text": [
            "(10+0j)\n"
          ]
        },
        {
          "output_type": "execute_result",
          "data": {
            "text/plain": [
              "complex"
            ]
          },
          "metadata": {},
          "execution_count": 15
        }
      ]
    },
    {
      "cell_type": "markdown",
      "source": [
        "# String Data Type"
      ],
      "metadata": {
        "id": "OSA1FR3POeDv"
      }
    },
    {
      "cell_type": "markdown",
      "source": [
        "## Basic String Creation"
      ],
      "metadata": {
        "id": "1Qu9TaxhPMW5"
      }
    },
    {
      "cell_type": "code",
      "source": [
        "STR1=\"Mission Mangal\"\n",
        "print(STR1)\n",
        "type(STR1)"
      ],
      "metadata": {
        "colab": {
          "base_uri": "https://localhost:8080/"
        },
        "id": "xixtj5HJPmp_",
        "outputId": "f2695b1e-7c0e-45bb-d409-f0636c4b7059"
      },
      "execution_count": 16,
      "outputs": [
        {
          "output_type": "stream",
          "name": "stdout",
          "text": [
            "Mission Mangal\n"
          ]
        },
        {
          "output_type": "execute_result",
          "data": {
            "text/plain": [
              "str"
            ]
          },
          "metadata": {},
          "execution_count": 16
        }
      ]
    },
    {
      "cell_type": "code",
      "source": [
        "STR2=str('AMRS')\n",
        "print(STR2)\n",
        "type(STR2)"
      ],
      "metadata": {
        "colab": {
          "base_uri": "https://localhost:8080/"
        },
        "id": "JrNeBnuVQRL3",
        "outputId": "c27d83fb-6e7e-49ff-efba-fd278fe3b28e"
      },
      "execution_count": 17,
      "outputs": [
        {
          "output_type": "stream",
          "name": "stdout",
          "text": [
            "AMRS\n"
          ]
        },
        {
          "output_type": "execute_result",
          "data": {
            "text/plain": [
              "str"
            ]
          },
          "metadata": {},
          "execution_count": 17
        }
      ]
    },
    {
      "cell_type": "code",
      "source": [
        "STR3=str(input(\"Enter the string:\"))\n",
        "print(STR3)\n",
        "type(STR3)"
      ],
      "metadata": {
        "colab": {
          "base_uri": "https://localhost:8080/"
        },
        "id": "fGSYVYj8P4eh",
        "outputId": "0c359165-45bd-4eb5-fe6c-643663d31292"
      },
      "execution_count": 18,
      "outputs": [
        {
          "output_type": "stream",
          "name": "stdout",
          "text": [
            "Enter the string:fgt\n",
            "fgt\n"
          ]
        },
        {
          "output_type": "execute_result",
          "data": {
            "text/plain": [
              "str"
            ]
          },
          "metadata": {},
          "execution_count": 18
        }
      ]
    },
    {
      "cell_type": "markdown",
      "source": [
        "## Accessing the String"
      ],
      "metadata": {
        "id": "fHHu_GT5Q7qh"
      }
    },
    {
      "cell_type": "code",
      "source": [
        "S1=\"Mission Mangal\"\n",
        "print(S1)"
      ],
      "metadata": {
        "colab": {
          "base_uri": "https://localhost:8080/"
        },
        "id": "Wnsw4DGIRPh8",
        "outputId": "d9bc479a-7bb6-47c9-e729-0cd95676b01a"
      },
      "execution_count": 19,
      "outputs": [
        {
          "output_type": "stream",
          "name": "stdout",
          "text": [
            "Mission Mangal\n"
          ]
        }
      ]
    },
    {
      "cell_type": "code",
      "source": [
        "S1[0]"
      ],
      "metadata": {
        "colab": {
          "base_uri": "https://localhost:8080/",
          "height": 36
        },
        "id": "ZE3dI1bJRyTd",
        "outputId": "aa238641-3b1e-461f-82d9-6a56eda0d5e0"
      },
      "execution_count": 20,
      "outputs": [
        {
          "output_type": "execute_result",
          "data": {
            "text/plain": [
              "'M'"
            ],
            "application/vnd.google.colaboratory.intrinsic+json": {
              "type": "string"
            }
          },
          "metadata": {},
          "execution_count": 20
        }
      ]
    },
    {
      "cell_type": "code",
      "source": [
        "S1[-1]"
      ],
      "metadata": {
        "colab": {
          "base_uri": "https://localhost:8080/",
          "height": 36
        },
        "id": "geIVNmS8R1ti",
        "outputId": "e5567c7a-dbe9-420a-8026-4d74ec2c41a3"
      },
      "execution_count": 21,
      "outputs": [
        {
          "output_type": "execute_result",
          "data": {
            "text/plain": [
              "'l'"
            ],
            "application/vnd.google.colaboratory.intrinsic+json": {
              "type": "string"
            }
          },
          "metadata": {},
          "execution_count": 21
        }
      ]
    },
    {
      "cell_type": "code",
      "source": [
        "S1[0:7]"
      ],
      "metadata": {
        "colab": {
          "base_uri": "https://localhost:8080/",
          "height": 36
        },
        "id": "7pVDSCgSR5q2",
        "outputId": "d9eb8562-101f-46ac-8992-3b0141751905"
      },
      "execution_count": 22,
      "outputs": [
        {
          "output_type": "execute_result",
          "data": {
            "text/plain": [
              "'Mission'"
            ],
            "application/vnd.google.colaboratory.intrinsic+json": {
              "type": "string"
            }
          },
          "metadata": {},
          "execution_count": 22
        }
      ]
    },
    {
      "cell_type": "code",
      "source": [
        "S1[8:14]"
      ],
      "metadata": {
        "colab": {
          "base_uri": "https://localhost:8080/",
          "height": 36
        },
        "id": "2XC3X-08SAeO",
        "outputId": "da72e0b7-47f6-4e39-c83a-4021ebd9ebf8"
      },
      "execution_count": 23,
      "outputs": [
        {
          "output_type": "execute_result",
          "data": {
            "text/plain": [
              "'Mangal'"
            ],
            "application/vnd.google.colaboratory.intrinsic+json": {
              "type": "string"
            }
          },
          "metadata": {},
          "execution_count": 23
        }
      ]
    },
    {
      "cell_type": "markdown",
      "source": [
        "## Split & Join a String"
      ],
      "metadata": {
        "id": "0qIBH9htSJM2"
      }
    },
    {
      "cell_type": "code",
      "source": [
        "Str1=\"Mission\"\n",
        "Str1"
      ],
      "metadata": {
        "colab": {
          "base_uri": "https://localhost:8080/",
          "height": 36
        },
        "id": "e-ltvK-MSNkY",
        "outputId": "61a4ec98-19ed-4e33-8757-ed980e73ce21"
      },
      "execution_count": 24,
      "outputs": [
        {
          "output_type": "execute_result",
          "data": {
            "text/plain": [
              "'Mission'"
            ],
            "application/vnd.google.colaboratory.intrinsic+json": {
              "type": "string"
            }
          },
          "metadata": {},
          "execution_count": 24
        }
      ]
    },
    {
      "cell_type": "code",
      "source": [
        "Str2=\"Mangal\"\n",
        "Str2"
      ],
      "metadata": {
        "colab": {
          "base_uri": "https://localhost:8080/",
          "height": 36
        },
        "id": "p-fe9mX7Sa2c",
        "outputId": "088fd145-9f87-493e-ef9d-b0706e29fad6"
      },
      "execution_count": 25,
      "outputs": [
        {
          "output_type": "execute_result",
          "data": {
            "text/plain": [
              "'Mangal'"
            ],
            "application/vnd.google.colaboratory.intrinsic+json": {
              "type": "string"
            }
          },
          "metadata": {},
          "execution_count": 25
        }
      ]
    },
    {
      "cell_type": "code",
      "source": [
        "Str3=Str1+\" \"+Str2\n",
        "Str3"
      ],
      "metadata": {
        "colab": {
          "base_uri": "https://localhost:8080/",
          "height": 36
        },
        "id": "6c7xaOQlSc7M",
        "outputId": "0343db76-d39d-4492-b8df-b33528c90ef3"
      },
      "execution_count": 26,
      "outputs": [
        {
          "output_type": "execute_result",
          "data": {
            "text/plain": [
              "'Mission Mangal'"
            ],
            "application/vnd.google.colaboratory.intrinsic+json": {
              "type": "string"
            }
          },
          "metadata": {},
          "execution_count": 26
        }
      ]
    },
    {
      "cell_type": "code",
      "source": [
        "List=Str3.split()\n",
        "List"
      ],
      "metadata": {
        "colab": {
          "base_uri": "https://localhost:8080/"
        },
        "id": "szD53kgbSqRs",
        "outputId": "f8a479a1-e66c-446e-b992-32a684c6cc5c"
      },
      "execution_count": 27,
      "outputs": [
        {
          "output_type": "execute_result",
          "data": {
            "text/plain": [
              "['Mission', 'Mangal']"
            ]
          },
          "metadata": {},
          "execution_count": 27
        }
      ]
    },
    {
      "cell_type": "markdown",
      "source": [
        "## String Built-in Methods"
      ],
      "metadata": {
        "id": "wU_QG0fESyKT"
      }
    },
    {
      "cell_type": "code",
      "source": [
        "# String 1\n",
        "Str1=\"Mission\"\n",
        "Str1"
      ],
      "metadata": {
        "colab": {
          "base_uri": "https://localhost:8080/",
          "height": 36
        },
        "id": "JIJC8MooTSXj",
        "outputId": "65c8ffff-22fc-449d-8055-555354b6f733"
      },
      "execution_count": 28,
      "outputs": [
        {
          "output_type": "execute_result",
          "data": {
            "text/plain": [
              "'Mission'"
            ],
            "application/vnd.google.colaboratory.intrinsic+json": {
              "type": "string"
            }
          },
          "metadata": {},
          "execution_count": 28
        }
      ]
    },
    {
      "cell_type": "code",
      "source": [
        "# String 2\n",
        "Str2=\"Mangal\"\n",
        "Str2"
      ],
      "metadata": {
        "colab": {
          "base_uri": "https://localhost:8080/",
          "height": 36
        },
        "id": "GSiBCnWBTXff",
        "outputId": "e8f3738c-5f3f-4ea5-d51f-784eff37bd2d"
      },
      "execution_count": 29,
      "outputs": [
        {
          "output_type": "execute_result",
          "data": {
            "text/plain": [
              "'Mangal'"
            ],
            "application/vnd.google.colaboratory.intrinsic+json": {
              "type": "string"
            }
          },
          "metadata": {},
          "execution_count": 29
        }
      ]
    },
    {
      "cell_type": "code",
      "source": [
        "# + Operator adds two strings together.\n",
        "\n",
        "Str3=Str1+\" \"+Str2\n",
        "Str3"
      ],
      "metadata": {
        "colab": {
          "base_uri": "https://localhost:8080/",
          "height": 36
        },
        "id": "rdIzeEv7TXwE",
        "outputId": "1f7051c2-862d-416d-c62f-5f729afc252a"
      },
      "execution_count": 30,
      "outputs": [
        {
          "output_type": "execute_result",
          "data": {
            "text/plain": [
              "'Mission Mangal'"
            ],
            "application/vnd.google.colaboratory.intrinsic+json": {
              "type": "string"
            }
          },
          "metadata": {},
          "execution_count": 30
        }
      ]
    },
    {
      "cell_type": "code",
      "source": [
        "# upper() method converts a string to uppercase.\n",
        "Str3.upper()"
      ],
      "metadata": {
        "colab": {
          "base_uri": "https://localhost:8080/",
          "height": 36
        },
        "id": "ps16gR9XTXx5",
        "outputId": "644b91b4-c6fa-4590-e935-1c2aeb3659fe"
      },
      "execution_count": 31,
      "outputs": [
        {
          "output_type": "execute_result",
          "data": {
            "text/plain": [
              "'MISSION MANGAL'"
            ],
            "application/vnd.google.colaboratory.intrinsic+json": {
              "type": "string"
            }
          },
          "metadata": {},
          "execution_count": 31
        }
      ]
    },
    {
      "cell_type": "code",
      "source": [
        "# lower() method converts a string to lowercase.\n",
        "Str3.lower()"
      ],
      "metadata": {
        "colab": {
          "base_uri": "https://localhost:8080/",
          "height": 36
        },
        "id": "xeycRjMXTXzQ",
        "outputId": "b7fa8544-2e39-4188-fd9e-1c0f495e14a4"
      },
      "execution_count": 32,
      "outputs": [
        {
          "output_type": "execute_result",
          "data": {
            "text/plain": [
              "'mission mangal'"
            ],
            "application/vnd.google.colaboratory.intrinsic+json": {
              "type": "string"
            }
          },
          "metadata": {},
          "execution_count": 32
        }
      ]
    },
    {
      "cell_type": "code",
      "source": [
        "# title() method capitalizes the first letter of each word in a string.\n",
        "Str3.title()"
      ],
      "metadata": {
        "colab": {
          "base_uri": "https://localhost:8080/",
          "height": 36
        },
        "id": "JEfOMKhKTX2B",
        "outputId": "e6f0efc2-13fa-4c23-f3c6-2bee2a0318bc"
      },
      "execution_count": 33,
      "outputs": [
        {
          "output_type": "execute_result",
          "data": {
            "text/plain": [
              "'Mission Mangal'"
            ],
            "application/vnd.google.colaboratory.intrinsic+json": {
              "type": "string"
            }
          },
          "metadata": {},
          "execution_count": 33
        }
      ]
    },
    {
      "cell_type": "code",
      "source": [
        "# find() method searches for the target in a string.\n",
        "Str3.find('a')"
      ],
      "metadata": {
        "colab": {
          "base_uri": "https://localhost:8080/"
        },
        "id": "OSeK6gewUwZs",
        "outputId": "b1d6e5aa-4ab6-48fe-949b-feff7c0a1adb"
      },
      "execution_count": 34,
      "outputs": [
        {
          "output_type": "execute_result",
          "data": {
            "text/plain": [
              "9"
            ]
          },
          "metadata": {},
          "execution_count": 34
        }
      ]
    },
    {
      "cell_type": "code",
      "source": [
        "# index() method searches for the target in a string.\n",
        "Str3.index('a')"
      ],
      "metadata": {
        "colab": {
          "base_uri": "https://localhost:8080/"
        },
        "id": "9nb7HrJJVKSz",
        "outputId": "a01285f4-e7d1-480c-9c01-cda9ed78074f"
      },
      "execution_count": 35,
      "outputs": [
        {
          "output_type": "execute_result",
          "data": {
            "text/plain": [
              "9"
            ]
          },
          "metadata": {},
          "execution_count": 35
        }
      ]
    },
    {
      "cell_type": "code",
      "source": [
        "# rfind() method searches for the target in a string from the end of the string.\n",
        "Str3.rfind('a')"
      ],
      "metadata": {
        "colab": {
          "base_uri": "https://localhost:8080/"
        },
        "id": "WmRJuD_xVeGr",
        "outputId": "9e1dae36-0707-456d-baea-2493652acfa9"
      },
      "execution_count": 36,
      "outputs": [
        {
          "output_type": "execute_result",
          "data": {
            "text/plain": [
              "12"
            ]
          },
          "metadata": {},
          "execution_count": 36
        }
      ]
    },
    {
      "cell_type": "code",
      "source": [
        "# rindex() method searches for the target in a string from the end of the string.\n",
        "Str3.rindex('a')"
      ],
      "metadata": {
        "colab": {
          "base_uri": "https://localhost:8080/"
        },
        "id": "R7JcRyneVpao",
        "outputId": "bf58a686-3b40-4761-c8d9-bc1f14e9f1d8"
      },
      "execution_count": 37,
      "outputs": [
        {
          "output_type": "execute_result",
          "data": {
            "text/plain": [
              "12"
            ]
          },
          "metadata": {},
          "execution_count": 37
        }
      ]
    },
    {
      "cell_type": "code",
      "source": [
        "# Checks the begining or end of a string for a match.\n",
        "Str=Str3.startswith('M')\n",
        "print(Str)"
      ],
      "metadata": {
        "colab": {
          "base_uri": "https://localhost:8080/"
        },
        "id": "sGZ3bWwRV8oR",
        "outputId": "e0ca3160-2e55-4803-a5aa-37ce725ca44a"
      },
      "execution_count": 38,
      "outputs": [
        {
          "output_type": "stream",
          "name": "stdout",
          "text": [
            "True\n"
          ]
        }
      ]
    },
    {
      "cell_type": "code",
      "source": [
        "# Checks the begining or end of a string for a match.\n",
        "Str=Str3.startswith('N')\n",
        "print(Str)"
      ],
      "metadata": {
        "colab": {
          "base_uri": "https://localhost:8080/"
        },
        "id": "3Js6Q7bUWUVt",
        "outputId": "e1cef696-cefe-43d5-94f4-342d9f000d84"
      },
      "execution_count": 39,
      "outputs": [
        {
          "output_type": "stream",
          "name": "stdout",
          "text": [
            "False\n"
          ]
        }
      ]
    },
    {
      "cell_type": "code",
      "source": [
        "# Checks the begining or end of a string for a match.\n",
        "Str=Str3.endswith('M')\n",
        "print(Str)"
      ],
      "metadata": {
        "colab": {
          "base_uri": "https://localhost:8080/"
        },
        "id": "m5qgQYzSWl14",
        "outputId": "46317e2d-a9c5-4663-ca46-f6c31ffb4d0c"
      },
      "execution_count": 40,
      "outputs": [
        {
          "output_type": "stream",
          "name": "stdout",
          "text": [
            "False\n"
          ]
        }
      ]
    },
    {
      "cell_type": "code",
      "source": [
        "# Checks the begining or end of a string for a match.\n",
        "Str=Str3.endswith('l')\n",
        "print(Str)"
      ],
      "metadata": {
        "colab": {
          "base_uri": "https://localhost:8080/"
        },
        "id": "AAnhOE3YWwOH",
        "outputId": "9e0b01f2-0234-41a2-eb2d-ab7698e61655"
      },
      "execution_count": 41,
      "outputs": [
        {
          "output_type": "stream",
          "name": "stdout",
          "text": [
            "True\n"
          ]
        }
      ]
    },
    {
      "cell_type": "code",
      "source": [
        "# Replace the target with with a new string.\n",
        "Str3.replace('l','lam')"
      ],
      "metadata": {
        "colab": {
          "base_uri": "https://localhost:8080/",
          "height": 36
        },
        "id": "V5l-N-h-W96S",
        "outputId": "668806d4-ed28-4921-829a-5149d283abf1"
      },
      "execution_count": 42,
      "outputs": [
        {
          "output_type": "execute_result",
          "data": {
            "text/plain": [
              "'Mission Mangalam'"
            ],
            "application/vnd.google.colaboratory.intrinsic+json": {
              "type": "string"
            }
          },
          "metadata": {},
          "execution_count": 42
        }
      ]
    },
    {
      "cell_type": "markdown",
      "source": [
        "# Example 1: Adding Two Numbers"
      ],
      "metadata": {
        "id": "Xb3uUw6wKYbt"
      }
    },
    {
      "cell_type": "code",
      "execution_count": 43,
      "metadata": {
        "colab": {
          "base_uri": "https://localhost:8080/"
        },
        "id": "xdEUATGaJcky",
        "outputId": "57d7aa24-e1ed-4c5a-93a7-d65a4f32235e"
      },
      "outputs": [
        {
          "output_type": "stream",
          "name": "stdout",
          "text": [
            "Enter first number: 6\n",
            "Enter second number: 6\n",
            "The sum of 6 and 6 is 12\n"
          ]
        }
      ],
      "source": [
        "# Taking input from the user\n",
        "Num1 = input(\"Enter first number: \")\n",
        "Num2 = input(\"Enter second number: \")\n",
        "\n",
        "# Converting inputs to integers\n",
        "Num1 = int(Num1)\n",
        "Num2 = int(Num2)\n",
        "\n",
        "# Calculating the sum\n",
        "sum = Num1 + Num2\n",
        "\n",
        "# Outputting the result\n",
        "print(\"The sum of {0} and {1} is {2}\".format(Num1, Num2, sum))"
      ]
    },
    {
      "cell_type": "markdown",
      "source": [
        "# Example 2: Finding the Maximum of Three Numbers"
      ],
      "metadata": {
        "id": "HdBRFnhxKjSu"
      }
    },
    {
      "cell_type": "code",
      "source": [
        "# Taking input from the user\n",
        "num1 = int(input(\"Enter first number: \"))\n",
        "num2 = int(input(\"Enter second number: \"))\n",
        "num3 = int(input(\"Enter third number: \"))\n",
        "\n",
        "# Finding the maximum\n",
        "max_num = max(num1, num2, num3)\n",
        "\n",
        "# Outputting the result\n",
        "print(\"The maximum of {0}, {1}, and {2} is {3}\".format(num1, num2, num3, max_num))"
      ],
      "metadata": {
        "colab": {
          "base_uri": "https://localhost:8080/"
        },
        "id": "qc9M3AKgKlMY",
        "outputId": "bb5d7d82-e2e8-4033-b12d-0efdf78e2f35"
      },
      "execution_count": 44,
      "outputs": [
        {
          "output_type": "stream",
          "name": "stdout",
          "text": [
            "Enter first number: 7\n",
            "Enter second number: 8\n",
            "Enter third number: 8\n",
            "The maximum of 7, 8, and 8 is 8\n"
          ]
        }
      ]
    },
    {
      "cell_type": "markdown",
      "source": [
        "# Example 3: Checking if a Number is Even or Odd"
      ],
      "metadata": {
        "id": "8jGQSh2IK5Uc"
      }
    },
    {
      "cell_type": "code",
      "source": [
        "# Taking input from the user\n",
        "num = int(input(\"Enter a number: \"))\n",
        "\n",
        "# Checking if the number is even or odd\n",
        "if num % 2 == 0:\n",
        "    print(\"{0} is even\".format(num))\n",
        "else:\n",
        "    print(\"{0} is odd\".format(num))"
      ],
      "metadata": {
        "colab": {
          "base_uri": "https://localhost:8080/"
        },
        "id": "03iWpY0dK9DO",
        "outputId": "b1da2e13-b4a2-41e0-9775-3a030fe33f1b"
      },
      "execution_count": 45,
      "outputs": [
        {
          "output_type": "stream",
          "name": "stdout",
          "text": [
            "Enter a number: 8\n",
            "8 is even\n"
          ]
        }
      ]
    },
    {
      "cell_type": "code",
      "source": [
        "# Taking input from the user\n",
        "num = int(input(\"Enter a number: \"))\n",
        "\n",
        "# Checking if the number is even or odd\n",
        "if num % 2 == 0:\n",
        "    print(\"{0} is even\".format(num))\n",
        "else:\n",
        "    print(\"{0} is odd\".format(num))"
      ],
      "metadata": {
        "colab": {
          "base_uri": "https://localhost:8080/"
        },
        "id": "uIKFOh4iLD6w",
        "outputId": "6f95fac9-b122-4669-d835-32fa86919fd0"
      },
      "execution_count": 46,
      "outputs": [
        {
          "output_type": "stream",
          "name": "stdout",
          "text": [
            "Enter a number: 9\n",
            "9 is odd\n"
          ]
        }
      ]
    }
  ]
}