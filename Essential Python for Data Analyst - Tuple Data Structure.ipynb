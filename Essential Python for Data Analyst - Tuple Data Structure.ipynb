{
  "nbformat": 4,
  "nbformat_minor": 0,
  "metadata": {
    "colab": {
      "provenance": [],
      "collapsed_sections": [
        "Xg9qkdOqFSPy",
        "7SDyD_0H9Jfm",
        "U4OB1WMY9OqS",
        "dwk0jpZ79W_Q",
        "vD423MAt9m8p",
        "c7SI3v0i9z5A",
        "4bg6rtRe-TpE",
        "sd2Zbf8a_sWS",
        "31AqpNm0_y2J",
        "bHFwQ9_2_19B",
        "9WKKPfpzADwN",
        "VUetlmp1Asoi",
        "kWG5dQ1RFd8w",
        "RhTm1qJaBwFg",
        "74FhVGgOBz5B",
        "rAlpj28RCCFV",
        "ehSxBR81CQ3z",
        "10mMpS2OCvlI",
        "WfcCYVe6D1hj",
        "4axFFab4EIkw",
        "T7o0J8r_EW0_",
        "Hp-DBb1JEc0G",
        "GcvMyaNHEuN7",
        "TS9Pmp6FE9wK"
      ],
      "authorship_tag": "ABX9TyMoBA9xd6ukPSiAQ2P98r7k",
      "include_colab_link": true
    },
    "kernelspec": {
      "name": "python3",
      "display_name": "Python 3"
    },
    "language_info": {
      "name": "python"
    }
  },
  "cells": [
    {
      "cell_type": "markdown",
      "metadata": {
        "id": "view-in-github",
        "colab_type": "text"
      },
      "source": [
        "<a href=\"https://colab.research.google.com/github/AarifSheikh-78603/Internship-2024-25/blob/main/Essential%20Python%20for%20Data%20Analyst%20-%20Tuple%20Data%20Structure.ipynb\" target=\"_parent\"><img src=\"https://colab.research.google.com/assets/colab-badge.svg\" alt=\"Open In Colab\"/></a>"
      ]
    },
    {
      "cell_type": "markdown",
      "source": [
        "# Create a Tuple"
      ],
      "metadata": {
        "id": "Xg9qkdOqFSPy"
      }
    },
    {
      "cell_type": "markdown",
      "source": [
        "## Create an empty Tuple"
      ],
      "metadata": {
        "id": "7SDyD_0H9Jfm"
      }
    },
    {
      "cell_type": "code",
      "execution_count": null,
      "metadata": {
        "colab": {
          "base_uri": "https://localhost:8080/"
        },
        "id": "UZ5gdhV48k8s",
        "outputId": "4674b19d-fb65-455e-c0a5-0b7f5e68484c"
      },
      "outputs": [
        {
          "output_type": "execute_result",
          "data": {
            "text/plain": [
              "()"
            ]
          },
          "metadata": {},
          "execution_count": 1
        }
      ],
      "source": [
        "T1=()\n",
        "T1"
      ]
    },
    {
      "cell_type": "code",
      "source": [
        "T1=tuple()\n",
        "T1"
      ],
      "metadata": {
        "colab": {
          "base_uri": "https://localhost:8080/"
        },
        "id": "pNhfpJS38_gu",
        "outputId": "e6ae844d-d42a-4c0f-95f7-68bf52af5226"
      },
      "execution_count": null,
      "outputs": [
        {
          "output_type": "execute_result",
          "data": {
            "text/plain": [
              "()"
            ]
          },
          "metadata": {},
          "execution_count": 2
        }
      ]
    },
    {
      "cell_type": "markdown",
      "source": [
        "## Create a tuole with integer values"
      ],
      "metadata": {
        "id": "U4OB1WMY9OqS"
      }
    },
    {
      "cell_type": "code",
      "source": [
        "T1=(1,2,3,4,5)\n",
        "T1"
      ],
      "metadata": {
        "colab": {
          "base_uri": "https://localhost:8080/"
        },
        "id": "im7fgtQ69TXf",
        "outputId": "e9b9ad70-5868-4117-c20c-0b9ea723c1a2"
      },
      "execution_count": null,
      "outputs": [
        {
          "output_type": "execute_result",
          "data": {
            "text/plain": [
              "(1, 2, 3, 4, 5)"
            ]
          },
          "metadata": {},
          "execution_count": 3
        }
      ]
    },
    {
      "cell_type": "code",
      "source": [
        "T1=tuple((1,2,3,4,5))\n",
        "T1"
      ],
      "metadata": {
        "colab": {
          "base_uri": "https://localhost:8080/"
        },
        "id": "eTKta79v9eWa",
        "outputId": "aa89d0f6-ed65-48d3-915e-bb7fbb928716"
      },
      "execution_count": null,
      "outputs": [
        {
          "output_type": "execute_result",
          "data": {
            "text/plain": [
              "(1, 2, 3, 4, 5)"
            ]
          },
          "metadata": {},
          "execution_count": 4
        }
      ]
    },
    {
      "cell_type": "markdown",
      "source": [
        "## Create a tuple with string values"
      ],
      "metadata": {
        "id": "dwk0jpZ79W_Q"
      }
    },
    {
      "cell_type": "code",
      "source": [
        "T1=('a','b','c','d','e')\n",
        "T1"
      ],
      "metadata": {
        "colab": {
          "base_uri": "https://localhost:8080/"
        },
        "id": "WbuIXldQ9aVH",
        "outputId": "e8099533-6a1e-48d4-8900-1228f2dec5a0"
      },
      "execution_count": null,
      "outputs": [
        {
          "output_type": "execute_result",
          "data": {
            "text/plain": [
              "('a', 'b', 'c', 'd', 'e')"
            ]
          },
          "metadata": {},
          "execution_count": 5
        }
      ]
    },
    {
      "cell_type": "code",
      "source": [
        "T1=tuple(('a','b','c','d','e'))\n",
        "T1"
      ],
      "metadata": {
        "colab": {
          "base_uri": "https://localhost:8080/"
        },
        "id": "WifnY9Z09hKu",
        "outputId": "c50cd233-701f-49a9-9500-0a2be914e086"
      },
      "execution_count": null,
      "outputs": [
        {
          "output_type": "execute_result",
          "data": {
            "text/plain": [
              "('a', 'b', 'c', 'd', 'e')"
            ]
          },
          "metadata": {},
          "execution_count": 6
        }
      ]
    },
    {
      "cell_type": "markdown",
      "source": [
        "## Create a tuple with mixed data"
      ],
      "metadata": {
        "id": "vD423MAt9m8p"
      }
    },
    {
      "cell_type": "code",
      "source": [
        "T1=(1,'a',2,'b',3,'c')\n",
        "T1"
      ],
      "metadata": {
        "colab": {
          "base_uri": "https://localhost:8080/"
        },
        "id": "Tt9wuTW_9q5F",
        "outputId": "0c390ba7-97b2-4175-eb75-5d62d02f09bc"
      },
      "execution_count": null,
      "outputs": [
        {
          "output_type": "execute_result",
          "data": {
            "text/plain": [
              "(1, 'a', 2, 'b', 3, 'c')"
            ]
          },
          "metadata": {},
          "execution_count": 7
        }
      ]
    },
    {
      "cell_type": "code",
      "source": [
        "T1=tuple((1,'a',2,'b',3,'c'))\n",
        "T1"
      ],
      "metadata": {
        "colab": {
          "base_uri": "https://localhost:8080/"
        },
        "id": "SHBSm2kJ9tjJ",
        "outputId": "9ad346f8-e82c-476e-9373-590f2b354199"
      },
      "execution_count": null,
      "outputs": [
        {
          "output_type": "execute_result",
          "data": {
            "text/plain": [
              "(1, 'a', 2, 'b', 3, 'c')"
            ]
          },
          "metadata": {},
          "execution_count": 8
        }
      ]
    },
    {
      "cell_type": "markdown",
      "source": [
        "## Create tuple without parenthesis"
      ],
      "metadata": {
        "id": "c7SI3v0i9z5A"
      }
    },
    {
      "cell_type": "code",
      "source": [
        "T1=10,20,30,40,50\n",
        "T1"
      ],
      "metadata": {
        "colab": {
          "base_uri": "https://localhost:8080/"
        },
        "id": "56Hco0Cw957Q",
        "outputId": "2fe1608c-ef90-41e9-dac4-a4a3064b5fcf"
      },
      "execution_count": null,
      "outputs": [
        {
          "output_type": "execute_result",
          "data": {
            "text/plain": [
              "(10, 20, 30, 40, 50)"
            ]
          },
          "metadata": {},
          "execution_count": 9
        }
      ]
    },
    {
      "cell_type": "code",
      "source": [
        "type(T1)"
      ],
      "metadata": {
        "colab": {
          "base_uri": "https://localhost:8080/"
        },
        "id": "Vxf1m0xs-JxR",
        "outputId": "9748312e-2869-4eb6-c5ad-e9f71b621664"
      },
      "execution_count": null,
      "outputs": [
        {
          "output_type": "execute_result",
          "data": {
            "text/plain": [
              "tuple"
            ]
          },
          "metadata": {},
          "execution_count": 10
        }
      ]
    },
    {
      "cell_type": "markdown",
      "source": [
        "# Accessing Values In Tuple"
      ],
      "metadata": {
        "id": "4bg6rtRe-TpE"
      }
    },
    {
      "cell_type": "code",
      "source": [
        "Tuple1=(226, 164, 161, 173, 215, 156, 145, 135, 147)\n",
        "Tuple1"
      ],
      "metadata": {
        "colab": {
          "base_uri": "https://localhost:8080/"
        },
        "id": "x_jhzssn-Svw",
        "outputId": "d34bcc17-7f3e-4d33-b8c9-8429f46876b5"
      },
      "execution_count": null,
      "outputs": [
        {
          "output_type": "execute_result",
          "data": {
            "text/plain": [
              "(226, 164, 161, 173, 215, 156, 145, 135, 147)"
            ]
          },
          "metadata": {},
          "execution_count": 11
        }
      ]
    },
    {
      "cell_type": "markdown",
      "source": [
        "## Access 1st element of the tuple"
      ],
      "metadata": {
        "id": "sd2Zbf8a_sWS"
      }
    },
    {
      "cell_type": "code",
      "source": [
        "Tuple1[0]"
      ],
      "metadata": {
        "colab": {
          "base_uri": "https://localhost:8080/"
        },
        "id": "6EV18jpD_eTl",
        "outputId": "584ba56f-47be-4dc0-918a-e97494ac800f"
      },
      "execution_count": null,
      "outputs": [
        {
          "output_type": "execute_result",
          "data": {
            "text/plain": [
              "226"
            ]
          },
          "metadata": {},
          "execution_count": 12
        }
      ]
    },
    {
      "cell_type": "markdown",
      "source": [
        "## Access last element of the tuple"
      ],
      "metadata": {
        "id": "31AqpNm0_y2J"
      }
    },
    {
      "cell_type": "code",
      "source": [
        "Tuple1[-1]"
      ],
      "metadata": {
        "colab": {
          "base_uri": "https://localhost:8080/"
        },
        "id": "nQ_MMdvj_h0p",
        "outputId": "19f764b1-3323-47ad-ea1f-0cfa2e166de0"
      },
      "execution_count": null,
      "outputs": [
        {
          "output_type": "execute_result",
          "data": {
            "text/plain": [
              "147"
            ]
          },
          "metadata": {},
          "execution_count": 13
        }
      ]
    },
    {
      "cell_type": "markdown",
      "source": [
        "## Access specific index element of the tuple"
      ],
      "metadata": {
        "id": "bHFwQ9_2_19B"
      }
    },
    {
      "cell_type": "code",
      "source": [
        "Tuple1[3]"
      ],
      "metadata": {
        "colab": {
          "base_uri": "https://localhost:8080/"
        },
        "id": "UuHakbYF_mvp",
        "outputId": "fd0537e3-3147-4922-e930-748185113460"
      },
      "execution_count": null,
      "outputs": [
        {
          "output_type": "execute_result",
          "data": {
            "text/plain": [
              "173"
            ]
          },
          "metadata": {},
          "execution_count": 14
        }
      ]
    },
    {
      "cell_type": "markdown",
      "source": [
        "## Access multiple elements"
      ],
      "metadata": {
        "id": "9WKKPfpzADwN"
      }
    },
    {
      "cell_type": "code",
      "source": [
        "Tuple1[2:5]"
      ],
      "metadata": {
        "colab": {
          "base_uri": "https://localhost:8080/"
        },
        "id": "p0XDLF9IAJIx",
        "outputId": "3c35f4bd-94b0-400c-846d-5702197d29f2"
      },
      "execution_count": null,
      "outputs": [
        {
          "output_type": "execute_result",
          "data": {
            "text/plain": [
              "(161, 173, 215)"
            ]
          },
          "metadata": {},
          "execution_count": 15
        }
      ]
    },
    {
      "cell_type": "code",
      "source": [
        "Tuple1[2:]"
      ],
      "metadata": {
        "colab": {
          "base_uri": "https://localhost:8080/"
        },
        "id": "Ss16_3bAANBT",
        "outputId": "c5e4a8a2-40dc-479e-9a8c-b51c440e2106"
      },
      "execution_count": null,
      "outputs": [
        {
          "output_type": "execute_result",
          "data": {
            "text/plain": [
              "(161, 173, 215, 156, 145, 135, 147)"
            ]
          },
          "metadata": {},
          "execution_count": 16
        }
      ]
    },
    {
      "cell_type": "code",
      "source": [
        "Tuple1[:2]"
      ],
      "metadata": {
        "colab": {
          "base_uri": "https://localhost:8080/"
        },
        "id": "EUyR998VAP8n",
        "outputId": "00a5aaa3-cdf6-4909-c220-8e22c96d209f"
      },
      "execution_count": null,
      "outputs": [
        {
          "output_type": "execute_result",
          "data": {
            "text/plain": [
              "(226, 164)"
            ]
          },
          "metadata": {},
          "execution_count": 17
        }
      ]
    },
    {
      "cell_type": "markdown",
      "source": [
        "# Updating Tuple"
      ],
      "metadata": {
        "id": "VUetlmp1Asoi"
      }
    },
    {
      "cell_type": "code",
      "source": [
        "Tuple1"
      ],
      "metadata": {
        "colab": {
          "base_uri": "https://localhost:8080/"
        },
        "id": "pzFsLe17Ax9r",
        "outputId": "974cd591-8a51-47d5-ad48-182181fd5593"
      },
      "execution_count": null,
      "outputs": [
        {
          "output_type": "execute_result",
          "data": {
            "text/plain": [
              "(226, 164, 161, 173, 215, 156, 145, 135, 147)"
            ]
          },
          "metadata": {},
          "execution_count": 18
        }
      ]
    },
    {
      "cell_type": "markdown",
      "source": [
        "## 'tuple' object does not support item assignment\n"
      ],
      "metadata": {
        "id": "kWG5dQ1RFd8w"
      }
    },
    {
      "cell_type": "code",
      "source": [
        "Tuple1[0]=100"
      ],
      "metadata": {
        "colab": {
          "base_uri": "https://localhost:8080/",
          "height": 141
        },
        "id": "SNTtHwLcA6WM",
        "outputId": "39c84b11-d2f8-460e-8736-a9902efb4f49"
      },
      "execution_count": null,
      "outputs": [
        {
          "output_type": "error",
          "ename": "TypeError",
          "evalue": "'tuple' object does not support item assignment",
          "traceback": [
            "\u001b[0;31m---------------------------------------------------------------------------\u001b[0m",
            "\u001b[0;31mTypeError\u001b[0m                                 Traceback (most recent call last)",
            "\u001b[0;32m<ipython-input-19-541a7e76e1f2>\u001b[0m in \u001b[0;36m<cell line: 1>\u001b[0;34m()\u001b[0m\n\u001b[0;32m----> 1\u001b[0;31m \u001b[0mTuple1\u001b[0m\u001b[0;34m[\u001b[0m\u001b[0;36m0\u001b[0m\u001b[0;34m]\u001b[0m\u001b[0;34m=\u001b[0m\u001b[0;36m100\u001b[0m\u001b[0;34m\u001b[0m\u001b[0;34m\u001b[0m\u001b[0m\n\u001b[0m",
            "\u001b[0;31mTypeError\u001b[0m: 'tuple' object does not support item assignment"
          ]
        }
      ]
    },
    {
      "cell_type": "code",
      "source": [
        "Tuple1"
      ],
      "metadata": {
        "colab": {
          "base_uri": "https://localhost:8080/"
        },
        "id": "xshq-FrlBPRm",
        "outputId": "d6def701-ab48-49b6-e495-e1a587406242"
      },
      "execution_count": null,
      "outputs": [
        {
          "output_type": "execute_result",
          "data": {
            "text/plain": [
              "(226, 164, 161, 173, 215, 156, 145, 135, 147)"
            ]
          },
          "metadata": {},
          "execution_count": 20
        }
      ]
    },
    {
      "cell_type": "code",
      "source": [
        "List1=list(Tuple1)\n",
        "List1"
      ],
      "metadata": {
        "colab": {
          "base_uri": "https://localhost:8080/"
        },
        "id": "ppGiXaxDBTsj",
        "outputId": "ef57abc5-81c6-4497-b4cd-607069d4b7f3"
      },
      "execution_count": null,
      "outputs": [
        {
          "output_type": "execute_result",
          "data": {
            "text/plain": [
              "[226, 164, 161, 173, 215, 156, 145, 135, 147]"
            ]
          },
          "metadata": {},
          "execution_count": 21
        }
      ]
    },
    {
      "cell_type": "code",
      "source": [
        "List1[0]=100\n",
        "List1"
      ],
      "metadata": {
        "colab": {
          "base_uri": "https://localhost:8080/"
        },
        "id": "9kTW8sVyBYvH",
        "outputId": "226b12db-104e-4537-f5b0-62e390555e20"
      },
      "execution_count": null,
      "outputs": [
        {
          "output_type": "execute_result",
          "data": {
            "text/plain": [
              "[100, 164, 161, 173, 215, 156, 145, 135, 147]"
            ]
          },
          "metadata": {},
          "execution_count": 22
        }
      ]
    },
    {
      "cell_type": "code",
      "source": [
        "Tuple2=tuple(List1)\n",
        "Tuple2"
      ],
      "metadata": {
        "colab": {
          "base_uri": "https://localhost:8080/"
        },
        "id": "VjuX1qCVBjg9",
        "outputId": "a6a1ee9a-866a-4e80-cf9c-8f5e7a1fd74c"
      },
      "execution_count": null,
      "outputs": [
        {
          "output_type": "execute_result",
          "data": {
            "text/plain": [
              "(100, 164, 161, 173, 215, 156, 145, 135, 147)"
            ]
          },
          "metadata": {},
          "execution_count": 23
        }
      ]
    },
    {
      "cell_type": "markdown",
      "source": [
        "#Tuple Operation"
      ],
      "metadata": {
        "id": "RhTm1qJaBwFg"
      }
    },
    {
      "cell_type": "markdown",
      "source": [
        "## Concatenation Operation"
      ],
      "metadata": {
        "id": "74FhVGgOBz5B"
      }
    },
    {
      "cell_type": "code",
      "source": [
        "T1=(1,2,3,4,5)\n",
        "T1"
      ],
      "metadata": {
        "colab": {
          "base_uri": "https://localhost:8080/"
        },
        "id": "NEYsocoJB4bx",
        "outputId": "7e4a9990-cfcc-4840-9c5a-7e06aaf6cc55"
      },
      "execution_count": null,
      "outputs": [
        {
          "output_type": "execute_result",
          "data": {
            "text/plain": [
              "(1, 2, 3, 4, 5)"
            ]
          },
          "metadata": {},
          "execution_count": 24
        }
      ]
    },
    {
      "cell_type": "code",
      "source": [
        "T2=('a','b','c','d','e')\n",
        "T2"
      ],
      "metadata": {
        "colab": {
          "base_uri": "https://localhost:8080/"
        },
        "id": "PDwUppnwB7EM",
        "outputId": "03eaa4ea-6ed5-4f2e-d2b6-e203c909b05a"
      },
      "execution_count": null,
      "outputs": [
        {
          "output_type": "execute_result",
          "data": {
            "text/plain": [
              "('a', 'b', 'c', 'd', 'e')"
            ]
          },
          "metadata": {},
          "execution_count": 25
        }
      ]
    },
    {
      "cell_type": "code",
      "source": [
        "T3=T1+T2\n",
        "T3"
      ],
      "metadata": {
        "colab": {
          "base_uri": "https://localhost:8080/"
        },
        "id": "SGSmXU_CB9rp",
        "outputId": "3201551d-f337-4db0-c024-b99b10e79c3c"
      },
      "execution_count": null,
      "outputs": [
        {
          "output_type": "execute_result",
          "data": {
            "text/plain": [
              "(1, 2, 3, 4, 5, 'a', 'b', 'c', 'd', 'e')"
            ]
          },
          "metadata": {},
          "execution_count": 26
        }
      ]
    },
    {
      "cell_type": "markdown",
      "source": [
        "## Repetition Operation"
      ],
      "metadata": {
        "id": "rAlpj28RCCFV"
      }
    },
    {
      "cell_type": "code",
      "source": [
        "T2*2"
      ],
      "metadata": {
        "colab": {
          "base_uri": "https://localhost:8080/"
        },
        "id": "P7KvrqM1BsgB",
        "outputId": "09c56e07-7fa2-442f-a36b-5e90b9de8b62"
      },
      "execution_count": null,
      "outputs": [
        {
          "output_type": "execute_result",
          "data": {
            "text/plain": [
              "('a', 'b', 'c', 'd', 'e', 'a', 'b', 'c', 'd', 'e')"
            ]
          },
          "metadata": {},
          "execution_count": 27
        }
      ]
    },
    {
      "cell_type": "markdown",
      "source": [
        "## Membership Function"
      ],
      "metadata": {
        "id": "ehSxBR81CQ3z"
      }
    },
    {
      "cell_type": "code",
      "source": [
        "Tuple1"
      ],
      "metadata": {
        "colab": {
          "base_uri": "https://localhost:8080/"
        },
        "id": "Vt7g4K1RCTYi",
        "outputId": "2ba81676-6818-44fe-b5a6-0246b10f0f54"
      },
      "execution_count": null,
      "outputs": [
        {
          "output_type": "execute_result",
          "data": {
            "text/plain": [
              "(226, 164, 161, 173, 215, 156, 145, 135, 147)"
            ]
          },
          "metadata": {},
          "execution_count": 28
        }
      ]
    },
    {
      "cell_type": "code",
      "source": [
        "156 in Tuple1"
      ],
      "metadata": {
        "colab": {
          "base_uri": "https://localhost:8080/"
        },
        "id": "AsZDQtTjCYer",
        "outputId": "3a587176-f678-4e69-a58b-cc7840dd5331"
      },
      "execution_count": null,
      "outputs": [
        {
          "output_type": "execute_result",
          "data": {
            "text/plain": [
              "True"
            ]
          },
          "metadata": {},
          "execution_count": 29
        }
      ]
    },
    {
      "cell_type": "code",
      "source": [
        "256 in Tuple1"
      ],
      "metadata": {
        "colab": {
          "base_uri": "https://localhost:8080/"
        },
        "id": "ejm6T9oICedN",
        "outputId": "df8ee077-4191-42fa-a363-9a994423753d"
      },
      "execution_count": null,
      "outputs": [
        {
          "output_type": "execute_result",
          "data": {
            "text/plain": [
              "False"
            ]
          },
          "metadata": {},
          "execution_count": 30
        }
      ]
    },
    {
      "cell_type": "code",
      "source": [
        "for i in Tuple1:\n",
        "  print(i)"
      ],
      "metadata": {
        "colab": {
          "base_uri": "https://localhost:8080/"
        },
        "id": "4pWWv1Z9Cj9k",
        "outputId": "b302a026-074b-40c7-c269-4c146de3f0b6"
      },
      "execution_count": null,
      "outputs": [
        {
          "output_type": "stream",
          "name": "stdout",
          "text": [
            "226\n",
            "164\n",
            "161\n",
            "173\n",
            "215\n",
            "156\n",
            "145\n",
            "135\n",
            "147\n"
          ]
        }
      ]
    },
    {
      "cell_type": "markdown",
      "source": [
        "# Build-in Functions & Methods of Tuple"
      ],
      "metadata": {
        "id": "10mMpS2OCvlI"
      }
    },
    {
      "cell_type": "code",
      "source": [
        "Tupl1=(226, 164, 161, 173, 215, 156, 145, 135, 147)\n",
        "Tupl1"
      ],
      "metadata": {
        "colab": {
          "base_uri": "https://localhost:8080/"
        },
        "id": "zykIndKTDD00",
        "outputId": "86b4f50a-86c7-4ef0-ecd8-15f684e22e2b"
      },
      "execution_count": null,
      "outputs": [
        {
          "output_type": "execute_result",
          "data": {
            "text/plain": [
              "(226, 164, 161, 173, 215, 156, 145, 135, 147)"
            ]
          },
          "metadata": {},
          "execution_count": 32
        }
      ]
    },
    {
      "cell_type": "code",
      "source": [
        "Tuple2=('Rahmanullah Gurbaz (AFG)',\n",
        " 'RG Sharma (IND)',\n",
        " 'TM Head (AUS)',\n",
        " 'Q de Kock (SA)',\n",
        " 'Ibrahim Zadran (AFG)',\n",
        " 'N Pooran (WI)',\n",
        " 'AGS Gous (USA)',\n",
        " 'JC Buttler (ENG)',\n",
        " 'SA Yadav (IND)')\n",
        "Tuple2"
      ],
      "metadata": {
        "colab": {
          "base_uri": "https://localhost:8080/"
        },
        "id": "cPAYnOq_DNdE",
        "outputId": "5892df4f-acae-418b-bc3e-d88ba9cd48ab"
      },
      "execution_count": null,
      "outputs": [
        {
          "output_type": "execute_result",
          "data": {
            "text/plain": [
              "('Rahmanullah Gurbaz (AFG)',\n",
              " 'RG Sharma (IND)',\n",
              " 'TM Head (AUS)',\n",
              " 'Q de Kock (SA)',\n",
              " 'Ibrahim Zadran (AFG)',\n",
              " 'N Pooran (WI)',\n",
              " 'AGS Gous (USA)',\n",
              " 'JC Buttler (ENG)',\n",
              " 'SA Yadav (IND)')"
            ]
          },
          "metadata": {},
          "execution_count": 33
        }
      ]
    },
    {
      "cell_type": "markdown",
      "source": [
        "## len (tuple) - Gives the total length of the tuple."
      ],
      "metadata": {
        "id": "WfcCYVe6D1hj"
      }
    },
    {
      "cell_type": "code",
      "source": [
        "len(Tupl1)"
      ],
      "metadata": {
        "colab": {
          "base_uri": "https://localhost:8080/"
        },
        "id": "v1FZaUdQC474",
        "outputId": "c24d4ad0-6dcf-4442-b424-f070050b2e9e"
      },
      "execution_count": null,
      "outputs": [
        {
          "output_type": "execute_result",
          "data": {
            "text/plain": [
              "9"
            ]
          },
          "metadata": {},
          "execution_count": 34
        }
      ]
    },
    {
      "cell_type": "code",
      "source": [
        "len (Tuple2)"
      ],
      "metadata": {
        "colab": {
          "base_uri": "https://localhost:8080/"
        },
        "id": "uu6UDDdlDXJT",
        "outputId": "f293407a-7d94-4c0e-9ed2-6eefd5e72520"
      },
      "execution_count": null,
      "outputs": [
        {
          "output_type": "execute_result",
          "data": {
            "text/plain": [
              "9"
            ]
          },
          "metadata": {},
          "execution_count": 35
        }
      ]
    },
    {
      "cell_type": "markdown",
      "source": [
        "## max() - Returns item from the tuple with max value."
      ],
      "metadata": {
        "id": "4axFFab4EIkw"
      }
    },
    {
      "cell_type": "code",
      "source": [
        "max(Tuple1)"
      ],
      "metadata": {
        "colab": {
          "base_uri": "https://localhost:8080/"
        },
        "id": "J6FxOwZkC7pa",
        "outputId": "7c9432da-ec00-48c8-839f-cdfe6467547d"
      },
      "execution_count": null,
      "outputs": [
        {
          "output_type": "execute_result",
          "data": {
            "text/plain": [
              "226"
            ]
          },
          "metadata": {},
          "execution_count": 36
        }
      ]
    },
    {
      "cell_type": "markdown",
      "source": [
        "## min() - Returns item from the tuple with min value."
      ],
      "metadata": {
        "id": "T7o0J8r_EW0_"
      }
    },
    {
      "cell_type": "code",
      "source": [
        "min(Tuple1)"
      ],
      "metadata": {
        "colab": {
          "base_uri": "https://localhost:8080/"
        },
        "id": "zQnzKzgHC95p",
        "outputId": "a2fcc700-f925-4736-c08b-a7911210a218"
      },
      "execution_count": null,
      "outputs": [
        {
          "output_type": "execute_result",
          "data": {
            "text/plain": [
              "135"
            ]
          },
          "metadata": {},
          "execution_count": 37
        }
      ]
    },
    {
      "cell_type": "markdown",
      "source": [
        "## zip(tuple1, tuple2) - It zips elements from two tuples into a list of tuples."
      ],
      "metadata": {
        "id": "Hp-DBb1JEc0G"
      }
    },
    {
      "cell_type": "code",
      "source": [
        "zip(Tuple1,Tuple2)"
      ],
      "metadata": {
        "colab": {
          "base_uri": "https://localhost:8080/"
        },
        "id": "hkclS_eNC_kP",
        "outputId": "70393caa-5a68-4e8f-c39f-65adec5dc9a5"
      },
      "execution_count": null,
      "outputs": [
        {
          "output_type": "execute_result",
          "data": {
            "text/plain": [
              "<zip at 0x7e09b40e1b00>"
            ]
          },
          "metadata": {},
          "execution_count": 38
        }
      ]
    },
    {
      "cell_type": "markdown",
      "source": [
        "## tuple.count() - Returns the number of times a specified value occurs in a tuple."
      ],
      "metadata": {
        "id": "GcvMyaNHEuN7"
      }
    },
    {
      "cell_type": "code",
      "source": [
        "Tuple1.count(164)"
      ],
      "metadata": {
        "colab": {
          "base_uri": "https://localhost:8080/"
        },
        "id": "3xIcIRtgDcQh",
        "outputId": "2791cc77-5419-450f-84c7-360708e99451"
      },
      "execution_count": null,
      "outputs": [
        {
          "output_type": "execute_result",
          "data": {
            "text/plain": [
              "1"
            ]
          },
          "metadata": {},
          "execution_count": 39
        }
      ]
    },
    {
      "cell_type": "markdown",
      "source": [
        "## tuple.index() - Searches the tuple for a specified value and returns the position where it was found."
      ],
      "metadata": {
        "id": "TS9Pmp6FE9wK"
      }
    },
    {
      "cell_type": "code",
      "source": [
        "Tuple2.index('RG Sharma (IND)')"
      ],
      "metadata": {
        "colab": {
          "base_uri": "https://localhost:8080/"
        },
        "id": "OQqgokXEDq0c",
        "outputId": "fc12c82d-5541-4c18-f517-15648151d52a"
      },
      "execution_count": null,
      "outputs": [
        {
          "output_type": "execute_result",
          "data": {
            "text/plain": [
              "1"
            ]
          },
          "metadata": {},
          "execution_count": 40
        }
      ]
    }
  ]
}