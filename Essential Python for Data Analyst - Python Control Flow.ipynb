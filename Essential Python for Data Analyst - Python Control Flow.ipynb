{
  "nbformat": 4,
  "nbformat_minor": 0,
  "metadata": {
    "colab": {
      "provenance": [],
      "authorship_tag": "ABX9TyNGZpu4eh7JFEnOy+cmnjWr",
      "include_colab_link": true
    },
    "kernelspec": {
      "name": "python3",
      "display_name": "Python 3"
    },
    "language_info": {
      "name": "python"
    }
  },
  "cells": [
    {
      "cell_type": "markdown",
      "metadata": {
        "id": "view-in-github",
        "colab_type": "text"
      },
      "source": [
        "<a href=\"https://colab.research.google.com/github/AarifSheikh-78603/Internship-2024-25/blob/main/Essential%20Python%20for%20Data%20Analyst%20-%20Python%20Control%20Flow.ipynb\" target=\"_parent\"><img src=\"https://colab.research.google.com/assets/colab-badge.svg\" alt=\"Open In Colab\"/></a>"
      ]
    },
    {
      "cell_type": "markdown",
      "source": [
        "# Python Control Flow"
      ],
      "metadata": {
        "id": "VbiI7tI3gCQ1"
      }
    },
    {
      "cell_type": "markdown",
      "source": [
        "# If Statement"
      ],
      "metadata": {
        "id": "rHfn7Nvnf-Qv"
      }
    },
    {
      "cell_type": "code",
      "source": [
        "# Taking input from the user\n",
        "number = int(input(\"Enter a number: \"))\n",
        "\n",
        "# Using a single if statement to check if the number is positive\n",
        "if number > 0:\n",
        "    print(\"The number is positive.\")\n"
      ],
      "metadata": {
        "colab": {
          "base_uri": "https://localhost:8080/"
        },
        "id": "4NtJc-bggPUW",
        "outputId": "ef41adea-0428-4895-9d20-6dc14be82cf6"
      },
      "execution_count": 1,
      "outputs": [
        {
          "output_type": "stream",
          "name": "stdout",
          "text": [
            "Enter a number: 56\n",
            "The number is positive.\n"
          ]
        }
      ]
    },
    {
      "cell_type": "markdown",
      "source": [
        "# If-Else Statement"
      ],
      "metadata": {
        "id": "xw9BSXcmgDbZ"
      }
    },
    {
      "cell_type": "code",
      "source": [
        "# Taking input from the user\n",
        "number = int(input(\"Enter a number: \"))\n",
        "\n",
        "# Using a single if statement to check if the number is positive\n",
        "if number > 0:\n",
        "    print(\"The number is positive.\")\n",
        "else:\n",
        "    print(\"The number is negative.\")\n"
      ],
      "metadata": {
        "colab": {
          "base_uri": "https://localhost:8080/"
        },
        "id": "nuWoJSBAgpmq",
        "outputId": "36dcbe06-172c-49b2-8796-8112a163b4ce"
      },
      "execution_count": 2,
      "outputs": [
        {
          "output_type": "stream",
          "name": "stdout",
          "text": [
            "Enter a number: -98\n",
            "The number is negative.\n"
          ]
        }
      ]
    },
    {
      "cell_type": "markdown",
      "source": [
        "# Nested If Statement"
      ],
      "metadata": {
        "id": "2yhKREyVhNPP"
      }
    },
    {
      "cell_type": "code",
      "source": [
        "# Taking input from the user\n",
        "age = int(input(\"Enter your age: \"))\n",
        "has_parental_permission = input(\"Do you have parental permission (yes/no)? \").strip().lower()\n",
        "\n",
        "# Using nested if statements to determine eligibility\n",
        "if age >= 18:\n",
        "    print(\"You are an adult.\")\n",
        "else:\n",
        "    if has_parental_permission == 'yes':\n",
        "        print(\"You are a minor, but you have parental permission.\")\n",
        "    else:\n",
        "        print(\"You are a minor and need parental permission to proceed.\")\n"
      ],
      "metadata": {
        "colab": {
          "base_uri": "https://localhost:8080/"
        },
        "id": "XXjFCy74hPvp",
        "outputId": "7a40ebb6-7a51-4170-eb8a-c99d7b5cf6d3"
      },
      "execution_count": 3,
      "outputs": [
        {
          "output_type": "stream",
          "name": "stdout",
          "text": [
            "Enter your age: 24\n",
            "Do you have parental permission (yes/no)? yes\n",
            "You are an adult.\n"
          ]
        }
      ]
    },
    {
      "cell_type": "markdown",
      "source": [
        "# Multi-way If-Elif-Else Statement"
      ],
      "metadata": {
        "id": "cdzaMPrChcZY"
      }
    },
    {
      "cell_type": "code",
      "source": [
        "# Taking input from the user\n",
        "score = int(input(\"Enter your score (0-100): \"))\n",
        "\n",
        "# Using if, elif, and else to determine grade\n",
        "if score >= 90:\n",
        "    print(\"Grade: A\")\n",
        "elif score >= 80:\n",
        "    print(\"Grade: B\")\n",
        "elif score >= 70:\n",
        "    print(\"Grade: C\")\n",
        "elif score >= 60:\n",
        "    print(\"Grade: D\")\n",
        "else:\n",
        "    print(\"Grade: F\")\n"
      ],
      "metadata": {
        "colab": {
          "base_uri": "https://localhost:8080/"
        },
        "id": "ayElLESOhko6",
        "outputId": "f417b684-d906-4e19-e6e5-a1b85682724e"
      },
      "execution_count": 4,
      "outputs": [
        {
          "output_type": "stream",
          "name": "stdout",
          "text": [
            "Enter your score (0-100): 65\n",
            "Grade: D\n"
          ]
        }
      ]
    },
    {
      "cell_type": "markdown",
      "source": [
        "# Looping In Python"
      ],
      "metadata": {
        "id": "bdXZ_9M9idsd"
      }
    },
    {
      "cell_type": "markdown",
      "source": [
        "# While Loop"
      ],
      "metadata": {
        "id": "Z80ymuZkidz5"
      }
    },
    {
      "cell_type": "code",
      "source": [
        "# Initialize a counter\n",
        "counter = 0\n",
        "\n",
        "# Using a while loop to count from 0 to 4\n",
        "while counter < 5:\n",
        "    print(\"Counter value:\", counter)\n",
        "    counter += 1  # Increment the counter\n"
      ],
      "metadata": {
        "colab": {
          "base_uri": "https://localhost:8080/"
        },
        "id": "DDOEUzD2inRN",
        "outputId": "9c2718fe-29af-4bf2-b233-44fab6498714"
      },
      "execution_count": 5,
      "outputs": [
        {
          "output_type": "stream",
          "name": "stdout",
          "text": [
            "Counter value: 0\n",
            "Counter value: 1\n",
            "Counter value: 2\n",
            "Counter value: 3\n",
            "Counter value: 4\n"
          ]
        }
      ]
    },
    {
      "cell_type": "markdown",
      "source": [
        "# For Loop"
      ],
      "metadata": {
        "id": "XfE40bWuixRr"
      }
    },
    {
      "cell_type": "code",
      "source": [
        "# Define a list of animals\n",
        "animals = [\"cat\", \"dog\", \"rabbit\"]\n",
        "\n",
        "# Using a for loop with enumerate to get index and value\n",
        "for index, animal in enumerate(animals):\n",
        "    print(f\"Index: {index}, Animal: {animal}\")\n"
      ],
      "metadata": {
        "colab": {
          "base_uri": "https://localhost:8080/"
        },
        "id": "AcNNMb8ji1NE",
        "outputId": "241e798c-f87b-4c54-8426-c8387025f5e1"
      },
      "execution_count": 6,
      "outputs": [
        {
          "output_type": "stream",
          "name": "stdout",
          "text": [
            "Index: 0, Animal: cat\n",
            "Index: 1, Animal: dog\n",
            "Index: 2, Animal: rabbit\n"
          ]
        }
      ]
    },
    {
      "cell_type": "markdown",
      "source": [
        "# Nested For & While Loop"
      ],
      "metadata": {
        "id": "6WiR_y_KjYzK"
      }
    },
    {
      "cell_type": "code",
      "source": [
        "# Define the size of the pattern\n",
        "size = 5\n",
        "\n",
        "# Generate a pattern using a for loop and a while loop\n",
        "for i in range(size):\n",
        "    j = 0\n",
        "    while j <= i:\n",
        "        print('*', end=' ')\n",
        "        j += 1\n",
        "    print()  # New line after each row\n"
      ],
      "metadata": {
        "colab": {
          "base_uri": "https://localhost:8080/"
        },
        "id": "v_l_QCShjeSP",
        "outputId": "cdcf525b-4da4-48bd-a3a8-abef46c04223"
      },
      "execution_count": 7,
      "outputs": [
        {
          "output_type": "stream",
          "name": "stdout",
          "text": [
            "* \n",
            "* * \n",
            "* * * \n",
            "* * * * \n",
            "* * * * * \n"
          ]
        }
      ]
    }
  ]
}