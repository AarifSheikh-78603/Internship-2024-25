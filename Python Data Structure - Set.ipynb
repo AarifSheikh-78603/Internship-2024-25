{
  "nbformat": 4,
  "nbformat_minor": 0,
  "metadata": {
    "colab": {
      "provenance": [],
      "collapsed_sections": [
        "REXeXSynGjL-",
        "bNQbn7cDGw4x",
        "fL6zSrD3Nlvf",
        "64-FcmV2NPYR",
        "ozAXvYvFN84M",
        "IchOSKZ0N9Mg",
        "CjT5L3l6O0v9",
        "XyyGiEjgO5Ve",
        "WjgMTAGFPxF3",
        "GHye4DaJRazd",
        "C5zY5fa0RvM2",
        "DkmH6RSMUHrB",
        "DFRBd2INUVcn",
        "ykbgi7WtUjY3",
        "Im1wrdk5VXJC",
        "7xYDMzT3U21T",
        "SKOFq0asVEcF"
      ],
      "authorship_tag": "ABX9TyMBLNLEInPh1EjdceOaNLQo",
      "include_colab_link": true
    },
    "kernelspec": {
      "name": "python3",
      "display_name": "Python 3"
    },
    "language_info": {
      "name": "python"
    }
  },
  "cells": [
    {
      "cell_type": "markdown",
      "metadata": {
        "id": "view-in-github",
        "colab_type": "text"
      },
      "source": [
        "<a href=\"https://colab.research.google.com/github/AarifSheikh-78603/Internship-2024-25/blob/main/Python%20Data%20Structure%20-%20Set.ipynb\" target=\"_parent\"><img src=\"https://colab.research.google.com/assets/colab-badge.svg\" alt=\"Open In Colab\"/></a>"
      ]
    },
    {
      "cell_type": "markdown",
      "source": [
        "# SETS"
      ],
      "metadata": {
        "id": "ZJIuZ5CTGdWD"
      }
    },
    {
      "cell_type": "markdown",
      "source": [
        "## Create an empty set"
      ],
      "metadata": {
        "id": "REXeXSynGjL-"
      }
    },
    {
      "cell_type": "code",
      "execution_count": 1,
      "metadata": {
        "colab": {
          "base_uri": "https://localhost:8080/"
        },
        "id": "DDvIEp6PGZd6",
        "outputId": "d16479ad-ed03-400e-f4a4-6b935c3e81a2"
      },
      "outputs": [
        {
          "output_type": "execute_result",
          "data": {
            "text/plain": [
              "{}"
            ]
          },
          "metadata": {},
          "execution_count": 1
        }
      ],
      "source": [
        "S1={}\n",
        "S1"
      ]
    },
    {
      "cell_type": "code",
      "source": [
        "S1=set()\n",
        "S1"
      ],
      "metadata": {
        "colab": {
          "base_uri": "https://localhost:8080/"
        },
        "id": "d7iD_mOzGraF",
        "outputId": "72f86df3-24fe-46ef-c573-7e9d067d1cfe"
      },
      "execution_count": 2,
      "outputs": [
        {
          "output_type": "execute_result",
          "data": {
            "text/plain": [
              "set()"
            ]
          },
          "metadata": {},
          "execution_count": 2
        }
      ]
    },
    {
      "cell_type": "markdown",
      "source": [
        "## Create a set with integer values"
      ],
      "metadata": {
        "id": "bNQbn7cDGw4x"
      }
    },
    {
      "cell_type": "code",
      "source": [
        "S1={23,1,11,61,51,5,32,94,16,0,65,3,0,21,10,12,}\n",
        "S1"
      ],
      "metadata": {
        "colab": {
          "base_uri": "https://localhost:8080/"
        },
        "id": "F-hzO3BhG2VZ",
        "outputId": "8057771f-92fe-4f94-cd3d-2f0faf2732cd"
      },
      "execution_count": 3,
      "outputs": [
        {
          "output_type": "execute_result",
          "data": {
            "text/plain": [
              "{0, 1, 3, 5, 10, 11, 12, 16, 21, 23, 32, 51, 61, 65, 94}"
            ]
          },
          "metadata": {},
          "execution_count": 3
        }
      ]
    },
    {
      "cell_type": "code",
      "source": [
        "type(S1)"
      ],
      "metadata": {
        "colab": {
          "base_uri": "https://localhost:8080/"
        },
        "id": "DisYWZdLNCP0",
        "outputId": "c9314e26-6036-4911-8209-0fb3c4defeb3"
      },
      "execution_count": 4,
      "outputs": [
        {
          "output_type": "execute_result",
          "data": {
            "text/plain": [
              "set"
            ]
          },
          "metadata": {},
          "execution_count": 4
        }
      ]
    },
    {
      "cell_type": "code",
      "source": [
        "S2=set([33,11,31,67,61,45,32,94,66,80,85,63,70,21,180,12,])\n",
        "S2"
      ],
      "metadata": {
        "colab": {
          "base_uri": "https://localhost:8080/"
        },
        "id": "9tgr0EfyMxgL",
        "outputId": "b6dd7d31-f2e8-4a5b-8528-65657be4f7cb"
      },
      "execution_count": 5,
      "outputs": [
        {
          "output_type": "execute_result",
          "data": {
            "text/plain": [
              "{11, 12, 21, 31, 32, 33, 45, 61, 63, 66, 67, 70, 80, 85, 94, 180}"
            ]
          },
          "metadata": {},
          "execution_count": 5
        }
      ]
    },
    {
      "cell_type": "code",
      "source": [
        "type(S2)"
      ],
      "metadata": {
        "colab": {
          "base_uri": "https://localhost:8080/"
        },
        "id": "drWONWVuNH-i",
        "outputId": "5da15fc5-66a2-4a4a-e91a-b733821e5d9d"
      },
      "execution_count": 6,
      "outputs": [
        {
          "output_type": "execute_result",
          "data": {
            "text/plain": [
              "set"
            ]
          },
          "metadata": {},
          "execution_count": 6
        }
      ]
    },
    {
      "cell_type": "markdown",
      "source": [
        "## Create set with set()."
      ],
      "metadata": {
        "id": "fL6zSrD3Nlvf"
      }
    },
    {
      "cell_type": "code",
      "source": [
        "S3=set('INTERNSHIP')\n",
        "S3"
      ],
      "metadata": {
        "colab": {
          "base_uri": "https://localhost:8080/"
        },
        "id": "pyZIQwLxNk9-",
        "outputId": "a6a1e527-82e4-4c8a-b307-3805c10bfb04"
      },
      "execution_count": 7,
      "outputs": [
        {
          "output_type": "execute_result",
          "data": {
            "text/plain": [
              "{'E', 'H', 'I', 'N', 'P', 'R', 'S', 'T'}"
            ]
          },
          "metadata": {},
          "execution_count": 7
        }
      ]
    },
    {
      "cell_type": "code",
      "source": [
        "type(S3)"
      ],
      "metadata": {
        "colab": {
          "base_uri": "https://localhost:8080/"
        },
        "id": "DHGf_LBbN3Eg",
        "outputId": "fbbccf55-305a-4c3d-e407-83796cf936c7"
      },
      "execution_count": 8,
      "outputs": [
        {
          "output_type": "execute_result",
          "data": {
            "text/plain": [
              "set"
            ]
          },
          "metadata": {},
          "execution_count": 8
        }
      ]
    },
    {
      "cell_type": "markdown",
      "source": [
        "## A set does not contains any duplicate value"
      ],
      "metadata": {
        "id": "64-FcmV2NPYR"
      }
    },
    {
      "cell_type": "code",
      "source": [
        "S4={10,20,30,40,50,10,20,30,40,50,60}\n",
        "S4"
      ],
      "metadata": {
        "colab": {
          "base_uri": "https://localhost:8080/"
        },
        "id": "4q0WuacINVM5",
        "outputId": "4c71d3d6-bfc5-45e3-cdc3-91e050973a1d"
      },
      "execution_count": 9,
      "outputs": [
        {
          "output_type": "execute_result",
          "data": {
            "text/plain": [
              "{10, 20, 30, 40, 50, 60}"
            ]
          },
          "metadata": {},
          "execution_count": 9
        }
      ]
    },
    {
      "cell_type": "code",
      "source": [
        "type(S4)"
      ],
      "metadata": {
        "colab": {
          "base_uri": "https://localhost:8080/"
        },
        "id": "WOu9zOOoNgq_",
        "outputId": "7c00b232-4cbc-4c3e-ac5e-f22116df0396"
      },
      "execution_count": 10,
      "outputs": [
        {
          "output_type": "execute_result",
          "data": {
            "text/plain": [
              "set"
            ]
          },
          "metadata": {},
          "execution_count": 10
        }
      ]
    },
    {
      "cell_type": "markdown",
      "source": [
        "# Updating Set"
      ],
      "metadata": {
        "id": "ozAXvYvFN84M"
      }
    },
    {
      "cell_type": "markdown",
      "source": [
        "## Using add() method."
      ],
      "metadata": {
        "id": "IchOSKZ0N9Mg"
      }
    },
    {
      "cell_type": "code",
      "source": [
        "S1={23,1,11,61,51,5,32,94,16,0,65,3,0,21,10,12,}\n",
        "S1"
      ],
      "metadata": {
        "colab": {
          "base_uri": "https://localhost:8080/"
        },
        "id": "295D4udNN9eu",
        "outputId": "9401d738-4e2d-4058-b95a-36c85e8e727c"
      },
      "execution_count": 11,
      "outputs": [
        {
          "output_type": "execute_result",
          "data": {
            "text/plain": [
              "{0, 1, 3, 5, 10, 11, 12, 16, 21, 23, 32, 51, 61, 65, 94}"
            ]
          },
          "metadata": {},
          "execution_count": 11
        }
      ]
    },
    {
      "cell_type": "code",
      "source": [
        "S1.add(100)\n",
        "S1"
      ],
      "metadata": {
        "colab": {
          "base_uri": "https://localhost:8080/"
        },
        "id": "JCuWa3YsOQK7",
        "outputId": "b75b59fa-a07d-4d85-c153-25fb33e85d4a"
      },
      "execution_count": 12,
      "outputs": [
        {
          "output_type": "execute_result",
          "data": {
            "text/plain": [
              "{0, 1, 3, 5, 10, 11, 12, 16, 21, 23, 32, 51, 61, 65, 94, 100}"
            ]
          },
          "metadata": {},
          "execution_count": 12
        }
      ]
    },
    {
      "cell_type": "code",
      "source": [
        "S1.add(72)\n",
        "S1"
      ],
      "metadata": {
        "colab": {
          "base_uri": "https://localhost:8080/"
        },
        "id": "9qWzSgqTOVHA",
        "outputId": "5d18bf5b-8f87-4c95-d21d-49e186757011"
      },
      "execution_count": 13,
      "outputs": [
        {
          "output_type": "execute_result",
          "data": {
            "text/plain": [
              "{0, 1, 3, 5, 10, 11, 12, 16, 21, 23, 32, 51, 61, 65, 72, 94, 100}"
            ]
          },
          "metadata": {},
          "execution_count": 13
        }
      ]
    },
    {
      "cell_type": "markdown",
      "source": [
        "## Using update() method"
      ],
      "metadata": {
        "id": "Q54Dx6nCObgg"
      }
    },
    {
      "cell_type": "code",
      "source": [
        "S1={23,1,11,61,51,5,32,94,16,0,65,3,0,21,10,12,}\n",
        "S1"
      ],
      "metadata": {
        "colab": {
          "base_uri": "https://localhost:8080/"
        },
        "id": "0fKRMAGnOfdW",
        "outputId": "cbf66fc6-a407-4f45-aa78-0cb933a9247b"
      },
      "execution_count": 14,
      "outputs": [
        {
          "output_type": "execute_result",
          "data": {
            "text/plain": [
              "{0, 1, 3, 5, 10, 11, 12, 16, 21, 23, 32, 51, 61, 65, 94}"
            ]
          },
          "metadata": {},
          "execution_count": 14
        }
      ]
    },
    {
      "cell_type": "code",
      "source": [
        "S2={100,200,300,400,500,600,700,800,900,1000}\n",
        "S2"
      ],
      "metadata": {
        "colab": {
          "base_uri": "https://localhost:8080/"
        },
        "id": "dWWG4GVGOlSc",
        "outputId": "8bbcdc24-d94c-4f21-bde1-e07aea86f8a2"
      },
      "execution_count": 15,
      "outputs": [
        {
          "output_type": "execute_result",
          "data": {
            "text/plain": [
              "{100, 200, 300, 400, 500, 600, 700, 800, 900, 1000}"
            ]
          },
          "metadata": {},
          "execution_count": 15
        }
      ]
    },
    {
      "cell_type": "code",
      "source": [
        "S1.update(S2)\n",
        "S1"
      ],
      "metadata": {
        "colab": {
          "base_uri": "https://localhost:8080/"
        },
        "id": "xa1pDo-POoXS",
        "outputId": "cbfc2892-2137-4694-e075-90b7e11c7252"
      },
      "execution_count": 16,
      "outputs": [
        {
          "output_type": "execute_result",
          "data": {
            "text/plain": [
              "{0,\n",
              " 1,\n",
              " 3,\n",
              " 5,\n",
              " 10,\n",
              " 11,\n",
              " 12,\n",
              " 16,\n",
              " 21,\n",
              " 23,\n",
              " 32,\n",
              " 51,\n",
              " 61,\n",
              " 65,\n",
              " 94,\n",
              " 100,\n",
              " 200,\n",
              " 300,\n",
              " 400,\n",
              " 500,\n",
              " 600,\n",
              " 700,\n",
              " 800,\n",
              " 900,\n",
              " 1000}"
            ]
          },
          "metadata": {},
          "execution_count": 16
        }
      ]
    },
    {
      "cell_type": "markdown",
      "source": [
        "# Basic Set Operation"
      ],
      "metadata": {
        "id": "CjT5L3l6O0v9"
      }
    },
    {
      "cell_type": "code",
      "source": [
        "A={1,2,3,4,5,6,7,8,9,10}\n",
        "B={1,2,3,4,5,11,12,13,14,15}"
      ],
      "metadata": {
        "id": "lnzW-V_sO3L3"
      },
      "execution_count": 17,
      "outputs": []
    },
    {
      "cell_type": "code",
      "source": [
        "C={'Mumbai', 'Pune', 'Banglore', 'Chennai', 'Hyderabad'}\n",
        "D={'Mumbai', 'Pune', 'Chennai', 'Hyderabad'}"
      ],
      "metadata": {
        "id": "G4WWRsmyPVJR"
      },
      "execution_count": 18,
      "outputs": []
    },
    {
      "cell_type": "markdown",
      "source": [
        "## Set Operation - Union"
      ],
      "metadata": {
        "id": "XyyGiEjgO5Ve"
      }
    },
    {
      "cell_type": "code",
      "source": [
        "U1=A.union(B)\n",
        "U1"
      ],
      "metadata": {
        "colab": {
          "base_uri": "https://localhost:8080/"
        },
        "id": "Xg8d_lYHPJi6",
        "outputId": "9ad8b8d4-4e2c-494f-841b-f712ddf13e79"
      },
      "execution_count": 19,
      "outputs": [
        {
          "output_type": "execute_result",
          "data": {
            "text/plain": [
              "{1, 2, 3, 4, 5, 6, 7, 8, 9, 10, 11, 12, 13, 14, 15}"
            ]
          },
          "metadata": {},
          "execution_count": 19
        }
      ]
    },
    {
      "cell_type": "code",
      "source": [
        "U2=B.union(A)\n",
        "U2"
      ],
      "metadata": {
        "colab": {
          "base_uri": "https://localhost:8080/"
        },
        "id": "GypOpE1fQzWq",
        "outputId": "90c9c2ff-fae5-4eb5-f15a-bb7ea15b4a86"
      },
      "execution_count": 20,
      "outputs": [
        {
          "output_type": "execute_result",
          "data": {
            "text/plain": [
              "{1, 2, 3, 4, 5, 6, 7, 8, 9, 10, 11, 12, 13, 14, 15}"
            ]
          },
          "metadata": {},
          "execution_count": 20
        }
      ]
    },
    {
      "cell_type": "code",
      "source": [
        "U3=C.union(D)\n",
        "U3"
      ],
      "metadata": {
        "colab": {
          "base_uri": "https://localhost:8080/"
        },
        "id": "YRfDgXN5Pslc",
        "outputId": "6ffccc29-a56d-462f-d538-e5db02778e22"
      },
      "execution_count": 21,
      "outputs": [
        {
          "output_type": "execute_result",
          "data": {
            "text/plain": [
              "{'Banglore', 'Chennai', 'Hyderabad', 'Mumbai', 'Pune'}"
            ]
          },
          "metadata": {},
          "execution_count": 21
        }
      ]
    },
    {
      "cell_type": "code",
      "source": [
        "U4=D.union(C)\n",
        "U4"
      ],
      "metadata": {
        "colab": {
          "base_uri": "https://localhost:8080/"
        },
        "id": "j3Z4ABB9RFVy",
        "outputId": "93b7cafe-1c8f-4299-ef73-45b63a5a858c"
      },
      "execution_count": 22,
      "outputs": [
        {
          "output_type": "execute_result",
          "data": {
            "text/plain": [
              "{'Banglore', 'Chennai', 'Hyderabad', 'Mumbai', 'Pune'}"
            ]
          },
          "metadata": {},
          "execution_count": 22
        }
      ]
    },
    {
      "cell_type": "code",
      "source": [],
      "metadata": {
        "id": "3KE3eLJoQz_H"
      },
      "execution_count": 22,
      "outputs": []
    },
    {
      "cell_type": "markdown",
      "source": [
        "## Set Operation - Intersection"
      ],
      "metadata": {
        "id": "WjgMTAGFPxF3"
      }
    },
    {
      "cell_type": "code",
      "source": [
        "I1=A.intersection(B)\n",
        "I1"
      ],
      "metadata": {
        "colab": {
          "base_uri": "https://localhost:8080/"
        },
        "id": "qy_0AtQxP1DJ",
        "outputId": "fba86912-e2d8-49fd-bb62-9384f5a9da09"
      },
      "execution_count": 23,
      "outputs": [
        {
          "output_type": "execute_result",
          "data": {
            "text/plain": [
              "{1, 2, 3, 4, 5}"
            ]
          },
          "metadata": {},
          "execution_count": 23
        }
      ]
    },
    {
      "cell_type": "code",
      "source": [
        "I2=B.intersection(A)\n",
        "I2"
      ],
      "metadata": {
        "colab": {
          "base_uri": "https://localhost:8080/"
        },
        "id": "mboVYvW_QlYj",
        "outputId": "894dce06-cf76-408d-dc01-e0b842fc8bf1"
      },
      "execution_count": 24,
      "outputs": [
        {
          "output_type": "execute_result",
          "data": {
            "text/plain": [
              "{1, 2, 3, 4, 5}"
            ]
          },
          "metadata": {},
          "execution_count": 24
        }
      ]
    },
    {
      "cell_type": "code",
      "source": [
        "I3=C.intersection(D)\n",
        "I3"
      ],
      "metadata": {
        "colab": {
          "base_uri": "https://localhost:8080/"
        },
        "id": "dZa3INsIQORP",
        "outputId": "672aa67f-8282-4bdb-ac7b-640716c0e006"
      },
      "execution_count": 25,
      "outputs": [
        {
          "output_type": "execute_result",
          "data": {
            "text/plain": [
              "{'Chennai', 'Hyderabad', 'Mumbai', 'Pune'}"
            ]
          },
          "metadata": {},
          "execution_count": 25
        }
      ]
    },
    {
      "cell_type": "code",
      "source": [
        "I4=D.intersection(C)\n",
        "I4"
      ],
      "metadata": {
        "colab": {
          "base_uri": "https://localhost:8080/"
        },
        "id": "O1GaOjEkQsY7",
        "outputId": "d4586b65-67fe-4383-ecf6-f8312b69a182"
      },
      "execution_count": 26,
      "outputs": [
        {
          "output_type": "execute_result",
          "data": {
            "text/plain": [
              "{'Chennai', 'Hyderabad', 'Mumbai', 'Pune'}"
            ]
          },
          "metadata": {},
          "execution_count": 26
        }
      ]
    },
    {
      "cell_type": "markdown",
      "source": [
        "## Set Operation - Difference"
      ],
      "metadata": {
        "id": "3qDnNvgiQWkY"
      }
    },
    {
      "cell_type": "code",
      "source": [
        "D1=A.difference(B)\n",
        "D1"
      ],
      "metadata": {
        "colab": {
          "base_uri": "https://localhost:8080/"
        },
        "id": "-wNsTGHaQZhP",
        "outputId": "dcedc61a-d57c-4b29-d373-07061ce2d9ce"
      },
      "execution_count": 27,
      "outputs": [
        {
          "output_type": "execute_result",
          "data": {
            "text/plain": [
              "{6, 7, 8, 9, 10}"
            ]
          },
          "metadata": {},
          "execution_count": 27
        }
      ]
    },
    {
      "cell_type": "code",
      "source": [
        "D2=B.difference(A)\n",
        "D2"
      ],
      "metadata": {
        "colab": {
          "base_uri": "https://localhost:8080/"
        },
        "id": "awtd5FvHQZyi",
        "outputId": "c532d5f7-bb38-4aed-b099-aadb9c96271c"
      },
      "execution_count": 28,
      "outputs": [
        {
          "output_type": "execute_result",
          "data": {
            "text/plain": [
              "{11, 12, 13, 14, 15}"
            ]
          },
          "metadata": {},
          "execution_count": 28
        }
      ]
    },
    {
      "cell_type": "code",
      "source": [
        "D3=C.difference(D)\n",
        "D3"
      ],
      "metadata": {
        "colab": {
          "base_uri": "https://localhost:8080/"
        },
        "id": "Gcl3Py24Qft0",
        "outputId": "c9f2f9aa-b5b6-45cc-d47c-7437dc09c305"
      },
      "execution_count": 29,
      "outputs": [
        {
          "output_type": "execute_result",
          "data": {
            "text/plain": [
              "{'Banglore'}"
            ]
          },
          "metadata": {},
          "execution_count": 29
        }
      ]
    },
    {
      "cell_type": "code",
      "source": [
        "D4=D.difference(C)\n",
        "D4"
      ],
      "metadata": {
        "colab": {
          "base_uri": "https://localhost:8080/"
        },
        "id": "1YneR4L4Qf19",
        "outputId": "e6d3a71d-0b8a-45c0-df06-fe36a0a2db03"
      },
      "execution_count": 30,
      "outputs": [
        {
          "output_type": "execute_result",
          "data": {
            "text/plain": [
              "set()"
            ]
          },
          "metadata": {},
          "execution_count": 30
        }
      ]
    },
    {
      "cell_type": "markdown",
      "source": [
        "## Set Operation - Symmetric Difference"
      ],
      "metadata": {
        "id": "GHye4DaJRazd"
      }
    },
    {
      "cell_type": "code",
      "source": [
        "SD1=A.symmetric_difference(B)\n",
        "SD1"
      ],
      "metadata": {
        "colab": {
          "base_uri": "https://localhost:8080/"
        },
        "id": "yuPj1FN7RW4Z",
        "outputId": "f9ef23d6-797e-45af-e7dc-e78bb0f44468"
      },
      "execution_count": 31,
      "outputs": [
        {
          "output_type": "execute_result",
          "data": {
            "text/plain": [
              "{6, 7, 8, 9, 10, 11, 12, 13, 14, 15}"
            ]
          },
          "metadata": {},
          "execution_count": 31
        }
      ]
    },
    {
      "cell_type": "code",
      "source": [
        "SD2=B.symmetric_difference(A)\n",
        "SD2"
      ],
      "metadata": {
        "colab": {
          "base_uri": "https://localhost:8080/"
        },
        "id": "5eNGvPQNRj3V",
        "outputId": "d897c6c4-f68c-4ee0-b9b6-3f7a8bea1dd1"
      },
      "execution_count": 32,
      "outputs": [
        {
          "output_type": "execute_result",
          "data": {
            "text/plain": [
              "{6, 7, 8, 9, 10, 11, 12, 13, 14, 15}"
            ]
          },
          "metadata": {},
          "execution_count": 32
        }
      ]
    },
    {
      "cell_type": "code",
      "source": [
        "SD3=C.symmetric_difference(D)\n",
        "SD3"
      ],
      "metadata": {
        "colab": {
          "base_uri": "https://localhost:8080/"
        },
        "id": "X6cDPYwLRnOx",
        "outputId": "68f9f4c5-3e22-45a9-b8e6-add2b37b02ff"
      },
      "execution_count": 33,
      "outputs": [
        {
          "output_type": "execute_result",
          "data": {
            "text/plain": [
              "{'Banglore'}"
            ]
          },
          "metadata": {},
          "execution_count": 33
        }
      ]
    },
    {
      "cell_type": "code",
      "source": [
        "SD4=D.symmetric_difference(C)\n",
        "SD4"
      ],
      "metadata": {
        "colab": {
          "base_uri": "https://localhost:8080/"
        },
        "id": "ZqT_Qyl6Rpj6",
        "outputId": "71aaed96-5326-4bc3-d80f-be05bb3f7094"
      },
      "execution_count": 34,
      "outputs": [
        {
          "output_type": "execute_result",
          "data": {
            "text/plain": [
              "{'Banglore'}"
            ]
          },
          "metadata": {},
          "execution_count": 34
        }
      ]
    },
    {
      "cell_type": "markdown",
      "source": [
        "# Built-in Functions and Methods For Sets In Python"
      ],
      "metadata": {
        "id": "C5zY5fa0RvM2"
      }
    },
    {
      "cell_type": "markdown",
      "source": [],
      "metadata": {
        "id": "r0hcdve0R2uY"
      }
    },
    {
      "cell_type": "code",
      "source": [
        "Set1={1,2,3,4,5,6,7,8,9,10}\n",
        "Set2={1,2,3,4,5,11,12,13,14,15}"
      ],
      "metadata": {
        "id": "ShXSpGA4R3Fc"
      },
      "execution_count": 35,
      "outputs": []
    },
    {
      "cell_type": "markdown",
      "source": [
        "## len() - Returns the length of the set"
      ],
      "metadata": {
        "id": "DkmH6RSMUHrB"
      }
    },
    {
      "cell_type": "code",
      "source": [
        "len(Set1)"
      ],
      "metadata": {
        "colab": {
          "base_uri": "https://localhost:8080/"
        },
        "id": "bKrtFiqhTpDR",
        "outputId": "4d1439ad-d8cc-49c5-a701-ed404f7d85ed"
      },
      "execution_count": 36,
      "outputs": [
        {
          "output_type": "execute_result",
          "data": {
            "text/plain": [
              "10"
            ]
          },
          "metadata": {},
          "execution_count": 36
        }
      ]
    },
    {
      "cell_type": "code",
      "source": [
        "len(Set2)"
      ],
      "metadata": {
        "colab": {
          "base_uri": "https://localhost:8080/"
        },
        "id": "QrwaihsKTrlc",
        "outputId": "de4b0c15-e420-4e88-ad2b-c3cae35fc43c"
      },
      "execution_count": 37,
      "outputs": [
        {
          "output_type": "execute_result",
          "data": {
            "text/plain": [
              "10"
            ]
          },
          "metadata": {},
          "execution_count": 37
        }
      ]
    },
    {
      "cell_type": "markdown",
      "source": [
        "## max() - Returns the largest item in the set"
      ],
      "metadata": {
        "id": "DFRBd2INUVcn"
      }
    },
    {
      "cell_type": "code",
      "source": [
        "max(Set1)"
      ],
      "metadata": {
        "colab": {
          "base_uri": "https://localhost:8080/"
        },
        "id": "eIU5cVpSTvK2",
        "outputId": "ad447b3b-668f-492b-b7b1-3717e994bf03"
      },
      "execution_count": 38,
      "outputs": [
        {
          "output_type": "execute_result",
          "data": {
            "text/plain": [
              "10"
            ]
          },
          "metadata": {},
          "execution_count": 38
        }
      ]
    },
    {
      "cell_type": "code",
      "source": [
        "max(Set2)"
      ],
      "metadata": {
        "colab": {
          "base_uri": "https://localhost:8080/"
        },
        "id": "jOWtiVFdUetz",
        "outputId": "a6cee758-7e96-4865-c516-c2ff3709d9e0"
      },
      "execution_count": 39,
      "outputs": [
        {
          "output_type": "execute_result",
          "data": {
            "text/plain": [
              "15"
            ]
          },
          "metadata": {},
          "execution_count": 39
        }
      ]
    },
    {
      "cell_type": "markdown",
      "source": [
        "## min() - Returns the smallest item in the set"
      ],
      "metadata": {
        "id": "ykbgi7WtUjY3"
      }
    },
    {
      "cell_type": "code",
      "source": [
        "min(Set1)"
      ],
      "metadata": {
        "colab": {
          "base_uri": "https://localhost:8080/"
        },
        "id": "J1i9s0NtUmeD",
        "outputId": "4640ad8d-157a-4d97-9efe-c4b8563a0ed1"
      },
      "execution_count": 40,
      "outputs": [
        {
          "output_type": "execute_result",
          "data": {
            "text/plain": [
              "1"
            ]
          },
          "metadata": {},
          "execution_count": 40
        }
      ]
    },
    {
      "cell_type": "code",
      "source": [
        "min(Set2)"
      ],
      "metadata": {
        "colab": {
          "base_uri": "https://localhost:8080/"
        },
        "id": "5ikCQFxWTx0q",
        "outputId": "f92c1eb3-249e-430b-d53a-99f0dcc2532e"
      },
      "execution_count": 41,
      "outputs": [
        {
          "output_type": "execute_result",
          "data": {
            "text/plain": [
              "1"
            ]
          },
          "metadata": {},
          "execution_count": 41
        }
      ]
    },
    {
      "cell_type": "markdown",
      "source": [
        "## sum() - Returns the sum of all elements in the set."
      ],
      "metadata": {
        "id": "Im1wrdk5VXJC"
      }
    },
    {
      "cell_type": "code",
      "source": [
        "sum(Set1)"
      ],
      "metadata": {
        "colab": {
          "base_uri": "https://localhost:8080/"
        },
        "id": "k84Ls4aAVXeu",
        "outputId": "46e6bc03-8231-4c14-9d41-d4a1f9d582eb"
      },
      "execution_count": 42,
      "outputs": [
        {
          "output_type": "execute_result",
          "data": {
            "text/plain": [
              "55"
            ]
          },
          "metadata": {},
          "execution_count": 42
        }
      ]
    },
    {
      "cell_type": "code",
      "source": [
        "sum(Set2)"
      ],
      "metadata": {
        "colab": {
          "base_uri": "https://localhost:8080/"
        },
        "id": "tXICxC1RVXiN",
        "outputId": "55b3f285-78b2-4628-a576-9b47307073eb"
      },
      "execution_count": 43,
      "outputs": [
        {
          "output_type": "execute_result",
          "data": {
            "text/plain": [
              "80"
            ]
          },
          "metadata": {},
          "execution_count": 43
        }
      ]
    },
    {
      "cell_type": "markdown",
      "source": [
        "## all() - Returns True if all elements of the set are true"
      ],
      "metadata": {
        "id": "7xYDMzT3U21T"
      }
    },
    {
      "cell_type": "code",
      "source": [
        "all (Set1)"
      ],
      "metadata": {
        "colab": {
          "base_uri": "https://localhost:8080/"
        },
        "id": "YAnQDUaITQ33",
        "outputId": "12c5b65d-46db-4cae-c1d6-1e6f01196065"
      },
      "execution_count": 44,
      "outputs": [
        {
          "output_type": "execute_result",
          "data": {
            "text/plain": [
              "True"
            ]
          },
          "metadata": {},
          "execution_count": 44
        }
      ]
    },
    {
      "cell_type": "code",
      "source": [
        "all (Set2)"
      ],
      "metadata": {
        "colab": {
          "base_uri": "https://localhost:8080/"
        },
        "id": "mvjoFPeWVCiI",
        "outputId": "9ca72620-ed00-4f41-ee37-ab6669e7904a"
      },
      "execution_count": 45,
      "outputs": [
        {
          "output_type": "execute_result",
          "data": {
            "text/plain": [
              "True"
            ]
          },
          "metadata": {},
          "execution_count": 45
        }
      ]
    },
    {
      "cell_type": "markdown",
      "source": [
        "## any() - Returns True if any elements of the set are true"
      ],
      "metadata": {
        "id": "SKOFq0asVEcF"
      }
    },
    {
      "cell_type": "code",
      "source": [
        "any (Set1)"
      ],
      "metadata": {
        "colab": {
          "base_uri": "https://localhost:8080/"
        },
        "id": "c7zBTg9FVNZh",
        "outputId": "0f0cb719-953d-472b-d54b-e9ce1ea56f10"
      },
      "execution_count": 46,
      "outputs": [
        {
          "output_type": "execute_result",
          "data": {
            "text/plain": [
              "True"
            ]
          },
          "metadata": {},
          "execution_count": 46
        }
      ]
    },
    {
      "cell_type": "code",
      "source": [
        "any (Set2)"
      ],
      "metadata": {
        "colab": {
          "base_uri": "https://localhost:8080/"
        },
        "id": "ByjsqOZbT99t",
        "outputId": "cb0ee846-3f42-4857-cdbe-5b987c1d54fd"
      },
      "execution_count": 47,
      "outputs": [
        {
          "output_type": "execute_result",
          "data": {
            "text/plain": [
              "True"
            ]
          },
          "metadata": {},
          "execution_count": 47
        }
      ]
    }
  ]
}