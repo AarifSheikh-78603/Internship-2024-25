{
  "nbformat": 4,
  "nbformat_minor": 0,
  "metadata": {
    "colab": {
      "provenance": [],
      "authorship_tag": "ABX9TyMTefLQ9Z+l7cEGLwtPXpcM",
      "include_colab_link": true
    },
    "kernelspec": {
      "name": "python3",
      "display_name": "Python 3"
    },
    "language_info": {
      "name": "python"
    }
  },
  "cells": [
    {
      "cell_type": "markdown",
      "metadata": {
        "id": "view-in-github",
        "colab_type": "text"
      },
      "source": [
        "<a href=\"https://colab.research.google.com/github/AarifSheikh-78603/Internship-2024-25/blob/main/Essential%20Python%20for%20Data%20Analyst%20-%20Python%20Fundamentals.ipynb\" target=\"_parent\"><img src=\"https://colab.research.google.com/assets/colab-badge.svg\" alt=\"Open In Colab\"/></a>"
      ]
    },
    {
      "cell_type": "markdown",
      "source": [
        "# Python Operators"
      ],
      "metadata": {
        "id": "tRb3oMOsfYi6"
      }
    },
    {
      "cell_type": "markdown",
      "source": [
        "# Arithmetic Operators"
      ],
      "metadata": {
        "id": "4MX7uWclZuxE"
      }
    },
    {
      "cell_type": "code",
      "source": [
        "# Addition (+) Operator\n",
        "print(10+20)"
      ],
      "metadata": {
        "colab": {
          "base_uri": "https://localhost:8080/"
        },
        "id": "IYSKM0L6Z1DJ",
        "outputId": "8515c990-d088-4416-a4b8-4cda2316cf31"
      },
      "execution_count": 1,
      "outputs": [
        {
          "output_type": "stream",
          "name": "stdout",
          "text": [
            "30\n"
          ]
        }
      ]
    },
    {
      "cell_type": "code",
      "source": [
        "# Subtraction (-) Operator\n",
        "print(10-20)"
      ],
      "metadata": {
        "colab": {
          "base_uri": "https://localhost:8080/"
        },
        "id": "oCf2IiZBZ__8",
        "outputId": "03d75069-8b66-4131-ce9e-1a3387e35116"
      },
      "execution_count": 2,
      "outputs": [
        {
          "output_type": "stream",
          "name": "stdout",
          "text": [
            "-10\n"
          ]
        }
      ]
    },
    {
      "cell_type": "code",
      "source": [
        "# Multiplication (*) Operator\n",
        "print(10*20)"
      ],
      "metadata": {
        "colab": {
          "base_uri": "https://localhost:8080/"
        },
        "id": "2uj9HmymaJRb",
        "outputId": "c95fc8f5-0653-4805-f3db-ae7718d55c5a"
      },
      "execution_count": 3,
      "outputs": [
        {
          "output_type": "stream",
          "name": "stdout",
          "text": [
            "200\n"
          ]
        }
      ]
    },
    {
      "cell_type": "code",
      "source": [
        "# Division (/) Operator\n",
        "print(10/20)"
      ],
      "metadata": {
        "colab": {
          "base_uri": "https://localhost:8080/"
        },
        "id": "nLBpFygsaQuQ",
        "outputId": "dcabed8c-7da8-4ded-a6ac-f81a3d9a15c3"
      },
      "execution_count": 4,
      "outputs": [
        {
          "output_type": "stream",
          "name": "stdout",
          "text": [
            "0.5\n"
          ]
        }
      ]
    },
    {
      "cell_type": "code",
      "source": [
        "# Exponent (**) Operator\n",
        "print(10**20)"
      ],
      "metadata": {
        "colab": {
          "base_uri": "https://localhost:8080/"
        },
        "id": "IHaw8FuhaVau",
        "outputId": "2255234c-8795-4320-f4e6-817abc627a11"
      },
      "execution_count": 5,
      "outputs": [
        {
          "output_type": "stream",
          "name": "stdout",
          "text": [
            "100000000000000000000\n"
          ]
        }
      ]
    },
    {
      "cell_type": "code",
      "source": [
        "# Modulus (%) Operator\n",
        "print(10%20)"
      ],
      "metadata": {
        "colab": {
          "base_uri": "https://localhost:8080/"
        },
        "id": "If-wTG_EahR_",
        "outputId": "1b2c038f-6b03-4cb7-afcf-a712cbfda6ec"
      },
      "execution_count": 6,
      "outputs": [
        {
          "output_type": "stream",
          "name": "stdout",
          "text": [
            "10\n"
          ]
        }
      ]
    },
    {
      "cell_type": "code",
      "source": [
        "# Floor Division (//) Operator\n",
        "print(10//20)"
      ],
      "metadata": {
        "colab": {
          "base_uri": "https://localhost:8080/"
        },
        "id": "eTTboQy9a339",
        "outputId": "bfda7dbc-27aa-48b3-884b-5a05d4a17677"
      },
      "execution_count": 7,
      "outputs": [
        {
          "output_type": "stream",
          "name": "stdout",
          "text": [
            "0\n"
          ]
        }
      ]
    },
    {
      "cell_type": "markdown",
      "source": [
        "Example on Arithmetic Operators"
      ],
      "metadata": {
        "id": "4JUgmdxZbPxn"
      }
    },
    {
      "cell_type": "code",
      "source": [
        "# Taking input from the user\n",
        "num1 = float(input(\"Enter the first number: \"))\n",
        "num2 = float(input(\"Enter the second number: \"))\n",
        "\n",
        "# Performing arithmetic operations\n",
        "addition = num1 + num2\n",
        "subtraction = num1 - num2\n",
        "multiplication = num1 * num2\n",
        "division = num1 / num2\n",
        "floor_division = num1 // num2\n",
        "modulus = num1 % num2\n",
        "exponentiation = num1 ** num2\n",
        "\n",
        "# Displaying the results\n",
        "print(\"\\nResults of Arithmetic Operations:\")\n",
        "print(f\"Addition: {addition}\")\n",
        "print(f\"Subtraction: {subtraction}\")\n",
        "print(f\"Multiplication: {multiplication}\")\n",
        "print(f\"Division: {division}\")\n",
        "print(f\"Floor Division: {floor_division}\")\n",
        "print(f\"Modulus: {modulus}\")\n",
        "print(f\"Exponentiation: {exponentiation}\")\n"
      ],
      "metadata": {
        "colab": {
          "base_uri": "https://localhost:8080/"
        },
        "id": "bacY7FnkbWPG",
        "outputId": "69f662fb-289e-4e01-e8e3-147967b940b8"
      },
      "execution_count": 8,
      "outputs": [
        {
          "output_type": "stream",
          "name": "stdout",
          "text": [
            "Enter the first number: 5\n",
            "Enter the second number: 7\n",
            "\n",
            "Results of Arithmetic Operations:\n",
            "Addition: 12.0\n",
            "Subtraction: -2.0\n",
            "Multiplication: 35.0\n",
            "Division: 0.7142857142857143\n",
            "Floor Division: 0.0\n",
            "Modulus: 5.0\n",
            "Exponentiation: 78125.0\n"
          ]
        }
      ]
    },
    {
      "cell_type": "markdown",
      "source": [
        "# Assignment Operators"
      ],
      "metadata": {
        "id": "iip1jy-7ZyAS"
      }
    },
    {
      "cell_type": "code",
      "source": [
        "# Initializing a variable\n",
        "a = 10\n",
        "print(\"Initial value of a:\", a)\n",
        "\n",
        "# Using assignment operators\n",
        "a += 5  # Equivalent to a = a + 5\n",
        "print(\"After a += 5, value of a:\", a)\n",
        "\n",
        "a -= 3  # Equivalent to a = a - 3\n",
        "print(\"After a -= 3, value of a:\", a)\n",
        "\n",
        "a *= 2  # Equivalent to a = a * 2\n",
        "print(\"After a *= 2, value of a:\", a)\n",
        "\n",
        "a /= 4  # Equivalent to a = a / 4\n",
        "print(\"After a /= 4, value of a:\", a)\n",
        "\n",
        "a //= 2  # Equivalent to a = a // 2\n",
        "print(\"After a //= 2, value of a:\", a)\n",
        "\n",
        "a %= 3  # Equivalent to a = a % 3\n",
        "print(\"After a %= 3, value of a:\", a)\n",
        "\n",
        "a **= 3  # Equivalent to a = a ** 3\n",
        "print(\"After a **= 3, value of a:\", a)"
      ],
      "metadata": {
        "colab": {
          "base_uri": "https://localhost:8080/"
        },
        "id": "GorPBRBmb-SS",
        "outputId": "7e4a2598-98df-4bf9-b955-d56617c7576a"
      },
      "execution_count": 9,
      "outputs": [
        {
          "output_type": "stream",
          "name": "stdout",
          "text": [
            "Initial value of a: 10\n",
            "After a += 5, value of a: 15\n",
            "After a -= 3, value of a: 12\n",
            "After a *= 2, value of a: 24\n",
            "After a /= 4, value of a: 6.0\n",
            "After a //= 2, value of a: 3.0\n",
            "After a %= 3, value of a: 0.0\n",
            "After a **= 3, value of a: 0.0\n"
          ]
        }
      ]
    },
    {
      "cell_type": "markdown",
      "source": [
        "# Relational or Comparision Operators"
      ],
      "metadata": {
        "id": "iME9fKXZdiM_"
      }
    },
    {
      "cell_type": "code",
      "source": [
        "# Taking input from the user\n",
        "num1 = float(input(\"Enter the first number: \"))\n",
        "num2 = float(input(\"Enter the second number: \"))\n",
        "\n",
        "# Using relational operators\n",
        "equal = num1 == num2\n",
        "not_equal = num1 != num2\n",
        "greater_than = num1 > num2\n",
        "less_than = num1 < num2\n",
        "greater_than_or_equal = num1 >= num2\n",
        "less_than_or_equal = num1 <= num2\n",
        "\n",
        "# Displaying the results\n",
        "print(\"\\nResults of Relational Operations:\")\n",
        "print(f\"{num1} == {num2}: {equal}\")\n",
        "print(f\"{num1} != {num2}: {not_equal}\")\n",
        "print(f\"{num1} > {num2}: {greater_than}\")\n",
        "print(f\"{num1} < {num2}: {less_than}\")\n",
        "print(f\"{num1} >= {num2}: {greater_than_or_equal}\")\n",
        "print(f\"{num1} <= {num2}: {less_than_or_equal}\")\n"
      ],
      "metadata": {
        "colab": {
          "base_uri": "https://localhost:8080/"
        },
        "id": "qguWl-rbd3WD",
        "outputId": "b64f93b5-44ff-4dbb-8ccf-6f27b613cf8b"
      },
      "execution_count": 10,
      "outputs": [
        {
          "output_type": "stream",
          "name": "stdout",
          "text": [
            "Enter the first number: 7\n",
            "Enter the second number: 8\n",
            "\n",
            "Results of Relational Operations:\n",
            "7.0 == 8.0: False\n",
            "7.0 != 8.0: True\n",
            "7.0 > 8.0: False\n",
            "7.0 < 8.0: True\n",
            "7.0 >= 8.0: False\n",
            "7.0 <= 8.0: True\n"
          ]
        }
      ]
    },
    {
      "cell_type": "markdown",
      "source": [
        "# Logical Operators"
      ],
      "metadata": {
        "id": "QqZpBeJdeNFQ"
      }
    },
    {
      "cell_type": "code",
      "source": [
        "# Taking input from the user\n",
        "num1 = float(input(\"Enter the first number: \"))\n",
        "num2 = float(input(\"Enter the second number: \"))\n",
        "num3 = float(input(\"Enter the third number: \"))\n",
        "\n",
        "# Using logical operators\n",
        "and_result = (num1 < num2) and (num2 < num3)\n",
        "or_result = (num1 < num2) or (num2 > num3)\n",
        "not_result = not (num1 < num2)\n",
        "\n",
        "# Displaying the results\n",
        "print(\"\\nResults of Logical Operations:\")\n",
        "print(f\"({num1} < {num2}) and ({num2} < {num3}): {and_result}\")\n",
        "print(f\"({num1} < {num2}) or ({num2} > {num3}): {or_result}\")\n",
        "print(f\"not ({num1} < {num2}): {not_result}\")\n"
      ],
      "metadata": {
        "colab": {
          "base_uri": "https://localhost:8080/"
        },
        "id": "y1XXpoX0eWqe",
        "outputId": "464ce29f-08d8-4c00-a782-716fcf2f0663"
      },
      "execution_count": 11,
      "outputs": [
        {
          "output_type": "stream",
          "name": "stdout",
          "text": [
            "Enter the first number: 8\n",
            "Enter the second number: 9\n",
            "Enter the third number: 5\n",
            "\n",
            "Results of Logical Operations:\n",
            "(8.0 < 9.0) and (9.0 < 5.0): False\n",
            "(8.0 < 9.0) or (9.0 > 5.0): True\n",
            "not (8.0 < 9.0): False\n"
          ]
        }
      ]
    },
    {
      "cell_type": "markdown",
      "source": [
        "# Bitwise Operators"
      ],
      "metadata": {
        "id": "0gMRMfXqe1P3"
      }
    },
    {
      "cell_type": "code",
      "source": [
        "# Taking input from the user\n",
        "num1 = int(input(\"Enter the first integer: \"))\n",
        "num2 = int(input(\"Enter the second integer: \"))\n",
        "\n",
        "# Performing bitwise operations\n",
        "bitwise_and = num1 & num2\n",
        "bitwise_or = num1 | num2\n",
        "bitwise_xor = num1 ^ num2\n",
        "bitwise_not_num1 = ~num1\n",
        "bitwise_not_num2 = ~num2\n",
        "left_shift = num1 << 2  # Shifting bits of num1 to the left by 2 positions\n",
        "right_shift = num1 >> 2 # Shifting bits of num1 to the right by 2 positions\n",
        "\n",
        "# Displaying the results\n",
        "print(\"\\nResults of Bitwise Operations:\")\n",
        "print(f\"{num1} & {num2} = {bitwise_and}\")\n",
        "print(f\"{num1} | {num2} = {bitwise_or}\")\n",
        "print(f\"{num1} ^ {num2} = {bitwise_xor}\")\n",
        "print(f\"~{num1} = {bitwise_not_num1}\")\n",
        "print(f\"~{num2} = {bitwise_not_num2}\")\n",
        "print(f\"{num1} << 2 = {left_shift}\")\n",
        "print(f\"{num1} >> 2 = {right_shift}\")\n"
      ],
      "metadata": {
        "colab": {
          "base_uri": "https://localhost:8080/"
        },
        "id": "iIjbWghce1hj",
        "outputId": "42458df0-efc8-4ad9-d5fc-0559ede4097a"
      },
      "execution_count": 13,
      "outputs": [
        {
          "output_type": "stream",
          "name": "stdout",
          "text": [
            "Enter the first integer: 6\n",
            "Enter the second integer: 5\n",
            "\n",
            "Results of Bitwise Operations:\n",
            "6 & 5 = 4\n",
            "6 | 5 = 7\n",
            "6 ^ 5 = 3\n",
            "~6 = -7\n",
            "~5 = -6\n",
            "6 << 2 = 24\n",
            "6 >> 2 = 1\n"
          ]
        }
      ]
    },
    {
      "cell_type": "markdown",
      "source": [
        "# Membership Operators"
      ],
      "metadata": {
        "id": "sko9dPikfKFO"
      }
    },
    {
      "cell_type": "code",
      "source": [
        "# Sample sequences\n",
        "my_list = [1, 2, 3, 4, 5]\n",
        "my_tuple = ('apple', 'banana', 'cherry')\n",
        "my_string = \"Hello, world!\"\n",
        "my_set = {10, 20, 30, 40, 50}\n",
        "\n",
        "# Testing membership\n",
        "list_check = 3 in my_list\n",
        "tuple_check = 'banana' in my_tuple\n",
        "string_check = 'world' in my_string\n",
        "set_check = 25 not in my_set\n",
        "\n",
        "# Displaying the results\n",
        "print(\"Membership Operator Results:\")\n",
        "print(f\"Is 3 in my_list? {list_check}\")\n",
        "print(f\"Is 'banana' in my_tuple? {tuple_check}\")\n",
        "print(f\"Is 'world' in my_string? {string_check}\")\n",
        "print(f\"Is 25 not in my_set? {set_check}\")\n"
      ],
      "metadata": {
        "colab": {
          "base_uri": "https://localhost:8080/"
        },
        "id": "7HKDg4nkfKP5",
        "outputId": "8a193a89-8fd6-4751-fcad-203a9284bcba"
      },
      "execution_count": 14,
      "outputs": [
        {
          "output_type": "stream",
          "name": "stdout",
          "text": [
            "Membership Operator Results:\n",
            "Is 3 in my_list? True\n",
            "Is 'banana' in my_tuple? True\n",
            "Is 'world' in my_string? True\n",
            "Is 25 not in my_set? True\n"
          ]
        }
      ]
    },
    {
      "cell_type": "markdown",
      "source": [
        "# Python Control Flow"
      ],
      "metadata": {
        "id": "8INK1q2DkTyb"
      }
    },
    {
      "cell_type": "markdown",
      "source": [
        "# If Statement"
      ],
      "metadata": {
        "id": "GV1XaYhckU0X"
      }
    },
    {
      "cell_type": "code",
      "source": [
        "# Taking input from the user\n",
        "number = int(input(\"Enter a number: \"))\n",
        "\n",
        "# Using a single if statement to check if the number is positive\n",
        "if number > 0:\n",
        "    print(\"The number is positive.\")\n"
      ],
      "metadata": {
        "colab": {
          "base_uri": "https://localhost:8080/"
        },
        "id": "ne1FATRukW3k",
        "outputId": "fd1015fa-0afd-4767-cc8c-5d9d89359de1"
      },
      "execution_count": 15,
      "outputs": [
        {
          "output_type": "stream",
          "name": "stdout",
          "text": [
            "Enter a number: 6\n",
            "The number is positive.\n"
          ]
        }
      ]
    },
    {
      "cell_type": "markdown",
      "source": [
        "# If-Else Statement"
      ],
      "metadata": {
        "id": "u0J8Up5IkbTy"
      }
    },
    {
      "cell_type": "code",
      "source": [
        "# Taking input from the user\n",
        "number = int(input(\"Enter a number: \"))\n",
        "\n",
        "# Using a single if statement to check if the number is positive\n",
        "if number > 0:\n",
        "    print(\"The number is positive.\")\n",
        "else:\n",
        "    print(\"The number is negative.\")\n"
      ],
      "metadata": {
        "colab": {
          "base_uri": "https://localhost:8080/"
        },
        "id": "8a5JjbGwkb6t",
        "outputId": "39bb6e8a-0281-4742-cd14-ae29ddb17c82"
      },
      "execution_count": 16,
      "outputs": [
        {
          "output_type": "stream",
          "name": "stdout",
          "text": [
            "Enter a number: 6\n",
            "The number is positive.\n"
          ]
        }
      ]
    },
    {
      "cell_type": "markdown",
      "source": [
        "# Nested If Statement"
      ],
      "metadata": {
        "id": "7ZDUE9e4kfNe"
      }
    },
    {
      "cell_type": "code",
      "source": [
        "# Taking input from the user\n",
        "age = int(input(\"Enter your age: \"))\n",
        "has_parental_permission = input(\"Do you have parental permission (yes/no)? \").strip().lower()\n",
        "\n",
        "# Using nested if statements to determine eligibility\n",
        "if age >= 18:\n",
        "    print(\"You are an adult.\")\n",
        "else:\n",
        "    if has_parental_permission == 'yes':\n",
        "        print(\"You are a minor, but you have parental permission.\")\n",
        "    else:\n",
        "        print(\"You are a minor and need parental permission to proceed.\")\n"
      ],
      "metadata": {
        "colab": {
          "base_uri": "https://localhost:8080/"
        },
        "id": "W0ZWh6WSkhU5",
        "outputId": "a5200808-edab-4821-8d4f-2715d53a8527"
      },
      "execution_count": 25,
      "outputs": [
        {
          "output_type": "stream",
          "name": "stdout",
          "text": [
            "Enter your age: 18\n",
            "Do you have parental permission (yes/no)? yes\n",
            "You are an adult.\n"
          ]
        }
      ]
    },
    {
      "cell_type": "markdown",
      "source": [
        "# Multi-way If-Elif-Else Statement"
      ],
      "metadata": {
        "id": "QehPjhc6kkiX"
      }
    },
    {
      "cell_type": "code",
      "source": [
        "# Taking input from the user\n",
        "score = int(input(\"Enter your score (0-100): \"))\n",
        "\n",
        "# Using if, elif, and else to determine grade\n",
        "if score >= 90:\n",
        "    print(\"Grade: A\")\n",
        "elif score >= 80:\n",
        "    print(\"Grade: B\")\n",
        "elif score >= 70:\n",
        "    print(\"Grade: C\")\n",
        "elif score >= 60:\n",
        "    print(\"Grade: D\")\n",
        "else:\n",
        "    print(\"Grade: F\")\n"
      ],
      "metadata": {
        "colab": {
          "base_uri": "https://localhost:8080/"
        },
        "id": "DtkyEy0mkjqP",
        "outputId": "2453f70d-7e55-42d6-aaf3-48a493bd1246"
      },
      "execution_count": 19,
      "outputs": [
        {
          "output_type": "stream",
          "name": "stdout",
          "text": [
            "Enter your score (0-100): 67\n",
            "Grade: D\n"
          ]
        }
      ]
    },
    {
      "cell_type": "markdown",
      "source": [
        "# Looping In Python"
      ],
      "metadata": {
        "id": "L4Mk4OfPkrjj"
      }
    },
    {
      "cell_type": "markdown",
      "source": [
        "# While Loop"
      ],
      "metadata": {
        "id": "T5xZo2rMkrn_"
      }
    },
    {
      "cell_type": "code",
      "source": [
        "# Initialize a counter\n",
        "counter = 0\n",
        "\n",
        "# Using a while loop to count from 0 to 4\n",
        "while counter < 5:\n",
        "    print(\"Counter value:\", counter)\n",
        "    counter += 1  # Increment the counter\n"
      ],
      "metadata": {
        "colab": {
          "base_uri": "https://localhost:8080/"
        },
        "id": "-PNyPPGwkwHW",
        "outputId": "f6846734-e111-46f9-8059-c63c6866d2bb"
      },
      "execution_count": 21,
      "outputs": [
        {
          "output_type": "stream",
          "name": "stdout",
          "text": [
            "Counter value: 0\n",
            "Counter value: 1\n",
            "Counter value: 2\n",
            "Counter value: 3\n",
            "Counter value: 4\n"
          ]
        }
      ]
    },
    {
      "cell_type": "markdown",
      "source": [
        "# For Loop"
      ],
      "metadata": {
        "id": "QQMaaYp8k1VB"
      }
    },
    {
      "cell_type": "code",
      "source": [
        "# Define a list of animals\n",
        "animals = [\"cat\", \"dog\", \"rabbit\"]\n",
        "\n",
        "# Using a for loop with enumerate to get index and value\n",
        "for index, animal in enumerate(animals):\n",
        "    print(f\"Index: {index}, Animal: {animal}\")\n"
      ],
      "metadata": {
        "colab": {
          "base_uri": "https://localhost:8080/"
        },
        "id": "sXPvFBwZk3I-",
        "outputId": "192b9333-5966-47dc-922e-a89d219dc596"
      },
      "execution_count": 23,
      "outputs": [
        {
          "output_type": "stream",
          "name": "stdout",
          "text": [
            "Index: 0, Animal: cat\n",
            "Index: 1, Animal: dog\n",
            "Index: 2, Animal: rabbit\n"
          ]
        }
      ]
    },
    {
      "cell_type": "markdown",
      "source": [
        "# Nested For & While Loop"
      ],
      "metadata": {
        "id": "gIwM0ezEk5sE"
      }
    },
    {
      "cell_type": "code",
      "source": [
        "# Define the size of the pattern\n",
        "size = 5\n",
        "\n",
        "# Generate a pattern using a for loop and a while loop\n",
        "for i in range(size):\n",
        "    j = 0\n",
        "    while j <= i:\n",
        "        print('*', end=' ')\n",
        "        j += 1\n",
        "    print()  # New line after each row\n"
      ],
      "metadata": {
        "colab": {
          "base_uri": "https://localhost:8080/"
        },
        "id": "pTOqbG2Kk7xq",
        "outputId": "6d064a98-fb7e-4aa4-de9a-7d5e2a9bb399"
      },
      "execution_count": 22,
      "outputs": [
        {
          "output_type": "stream",
          "name": "stdout",
          "text": [
            "* \n",
            "* * \n",
            "* * * \n",
            "* * * * \n",
            "* * * * * \n"
          ]
        }
      ]
    },
    {
      "cell_type": "markdown",
      "source": [],
      "metadata": {
        "id": "HsxEgX8yk-Go"
      }
    }
  ]
}