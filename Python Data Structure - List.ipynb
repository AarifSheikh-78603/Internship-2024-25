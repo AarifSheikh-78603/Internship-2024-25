{
  "nbformat": 4,
  "nbformat_minor": 0,
  "metadata": {
    "colab": {
      "provenance": [],
      "authorship_tag": "ABX9TyOoMP+oJxjqyRBrGXehLDU7",
      "include_colab_link": true
    },
    "kernelspec": {
      "name": "python3",
      "display_name": "Python 3"
    },
    "language_info": {
      "name": "python"
    }
  },
  "cells": [
    {
      "cell_type": "markdown",
      "metadata": {
        "id": "view-in-github",
        "colab_type": "text"
      },
      "source": [
        "<a href=\"https://colab.research.google.com/github/AarifSheikh-78603/Internship-2024-25/blob/main/Python%20Data%20Structure%20-%20List.ipynb\" target=\"_parent\"><img src=\"https://colab.research.google.com/assets/colab-badge.svg\" alt=\"Open In Colab\"/></a>"
      ]
    },
    {
      "cell_type": "markdown",
      "source": [
        "## Creating an emty List"
      ],
      "metadata": {
        "id": "r-fllhaLw5pf"
      }
    },
    {
      "cell_type": "code",
      "source": [
        "l1=[]\n",
        "l1"
      ],
      "metadata": {
        "colab": {
          "base_uri": "https://localhost:8080/"
        },
        "id": "06s68XwJw-gR",
        "outputId": "c6ec4116-dccd-4e70-bd5c-9d017ae02577"
      },
      "execution_count": 1,
      "outputs": [
        {
          "output_type": "execute_result",
          "data": {
            "text/plain": [
              "[]"
            ]
          },
          "metadata": {},
          "execution_count": 1
        }
      ]
    },
    {
      "cell_type": "code",
      "source": [
        "l1=list()\n",
        "l1"
      ],
      "metadata": {
        "id": "SNibBT-IxUGK",
        "colab": {
          "base_uri": "https://localhost:8080/"
        },
        "outputId": "8383ee78-8c57-4bf5-ba2f-ea7ddf8713c5"
      },
      "execution_count": 2,
      "outputs": [
        {
          "output_type": "execute_result",
          "data": {
            "text/plain": [
              "[]"
            ]
          },
          "metadata": {},
          "execution_count": 2
        }
      ]
    },
    {
      "cell_type": "markdown",
      "source": [
        "## Creating a list with any integer elements."
      ],
      "metadata": {
        "id": "0OZRExSrxfgV"
      }
    },
    {
      "cell_type": "code",
      "source": [
        "l2=[10,20,30]\n",
        "l2"
      ],
      "metadata": {
        "colab": {
          "base_uri": "https://localhost:8080/"
        },
        "id": "MWq0wNgXxsPH",
        "outputId": "5739de3f-bd96-4dfe-8115-d5fcf96026cb"
      },
      "execution_count": 3,
      "outputs": [
        {
          "output_type": "execute_result",
          "data": {
            "text/plain": [
              "[10, 20, 30]"
            ]
          },
          "metadata": {},
          "execution_count": 3
        }
      ]
    },
    {
      "cell_type": "code",
      "source": [
        "l2=list([10,20,30])\n",
        "l2"
      ],
      "metadata": {
        "colab": {
          "base_uri": "https://localhost:8080/"
        },
        "id": "QGbOQlwTx2k-",
        "outputId": "9a2d6ae5-c55e-417a-ac48-8931eae427a7"
      },
      "execution_count": 4,
      "outputs": [
        {
          "output_type": "execute_result",
          "data": {
            "text/plain": [
              "[10, 20, 30]"
            ]
          },
          "metadata": {},
          "execution_count": 4
        }
      ]
    },
    {
      "cell_type": "markdown",
      "source": [
        "## Creating a list with string elements."
      ],
      "metadata": {
        "id": "gDV-IsP1x9qH"
      }
    },
    {
      "cell_type": "code",
      "source": [
        "l3=['a','b','c']\n",
        "l3"
      ],
      "metadata": {
        "colab": {
          "base_uri": "https://localhost:8080/"
        },
        "id": "71qndFSqyCIc",
        "outputId": "b7a26cb1-ea92-41aa-ac43-818b847fa164"
      },
      "execution_count": 5,
      "outputs": [
        {
          "output_type": "execute_result",
          "data": {
            "text/plain": [
              "['a', 'b', 'c']"
            ]
          },
          "metadata": {},
          "execution_count": 5
        }
      ]
    },
    {
      "cell_type": "code",
      "source": [
        "l3=list(['a','b','c'])\n",
        "l3"
      ],
      "metadata": {
        "colab": {
          "base_uri": "https://localhost:8080/"
        },
        "id": "PyIzoiexyJ4H",
        "outputId": "cd3ff2a5-a7fc-40f2-f1a7-ee4d8892707b"
      },
      "execution_count": 6,
      "outputs": [
        {
          "output_type": "execute_result",
          "data": {
            "text/plain": [
              "['a', 'b', 'c']"
            ]
          },
          "metadata": {},
          "execution_count": 6
        }
      ]
    },
    {
      "cell_type": "markdown",
      "source": [
        "## Creating a list with mixed data"
      ],
      "metadata": {
        "id": "vSBkEwlLySls"
      }
    },
    {
      "cell_type": "code",
      "source": [
        "l4=[10,20,'a','b']\n",
        "l4"
      ],
      "metadata": {
        "colab": {
          "base_uri": "https://localhost:8080/"
        },
        "id": "N2eqGYSDyXrH",
        "outputId": "8281670d-7839-429f-c71a-e59e63978231"
      },
      "execution_count": 7,
      "outputs": [
        {
          "output_type": "execute_result",
          "data": {
            "text/plain": [
              "[10, 20, 'a', 'b']"
            ]
          },
          "metadata": {},
          "execution_count": 7
        }
      ]
    },
    {
      "cell_type": "markdown",
      "source": [
        "## create a list using inbuilt range() function."
      ],
      "metadata": {
        "id": "XSZNvrPyyjlS"
      }
    },
    {
      "cell_type": "code",
      "source": [
        "l5=list(range(10))\n",
        "l5"
      ],
      "metadata": {
        "colab": {
          "base_uri": "https://localhost:8080/"
        },
        "id": "uSIemaVoysbl",
        "outputId": "5a21490e-dd6c-4fca-9e21-72f38de4ebda"
      },
      "execution_count": 8,
      "outputs": [
        {
          "output_type": "execute_result",
          "data": {
            "text/plain": [
              "[0, 1, 2, 3, 4, 5, 6, 7, 8, 9]"
            ]
          },
          "metadata": {},
          "execution_count": 8
        }
      ]
    },
    {
      "cell_type": "markdown",
      "source": [
        "## Create a list using inbuilt character A, B and C."
      ],
      "metadata": {
        "id": "4dPrtnSQzECW"
      }
    },
    {
      "cell_type": "code",
      "source": [
        "l6=list('ABC')\n",
        "l6"
      ],
      "metadata": {
        "colab": {
          "base_uri": "https://localhost:8080/"
        },
        "id": "7AZETyEuzYKf",
        "outputId": "31cfaa14-94d9-4985-dc9d-7bfd9a463442"
      },
      "execution_count": 9,
      "outputs": [
        {
          "output_type": "execute_result",
          "data": {
            "text/plain": [
              "['A', 'B', 'C']"
            ]
          },
          "metadata": {},
          "execution_count": 9
        }
      ]
    },
    {
      "cell_type": "markdown",
      "source": [
        "# Accessing Values in List"
      ],
      "metadata": {
        "id": "kQcX3YdHzvAj"
      }
    },
    {
      "cell_type": "code",
      "source": [
        "list1=[10,20,30,40,50]"
      ],
      "metadata": {
        "id": "KwBDwznozowy"
      },
      "execution_count": 10,
      "outputs": []
    },
    {
      "cell_type": "code",
      "source": [
        "list1[0]"
      ],
      "metadata": {
        "colab": {
          "base_uri": "https://localhost:8080/"
        },
        "id": "81R7jhAB0Jvh",
        "outputId": "7efa6ae5-e646-45ba-ce28-8882721fe75f"
      },
      "execution_count": 11,
      "outputs": [
        {
          "output_type": "execute_result",
          "data": {
            "text/plain": [
              "10"
            ]
          },
          "metadata": {},
          "execution_count": 11
        }
      ]
    },
    {
      "cell_type": "code",
      "source": [
        "list1[-2]"
      ],
      "metadata": {
        "colab": {
          "base_uri": "https://localhost:8080/"
        },
        "id": "gLDF_C-H0KCn",
        "outputId": "ab43b88d-6538-4818-de59-7c30912713bd"
      },
      "execution_count": 12,
      "outputs": [
        {
          "output_type": "execute_result",
          "data": {
            "text/plain": [
              "40"
            ]
          },
          "metadata": {},
          "execution_count": 12
        }
      ]
    },
    {
      "cell_type": "code",
      "source": [
        "list1[1:4]"
      ],
      "metadata": {
        "colab": {
          "base_uri": "https://localhost:8080/"
        },
        "id": "-V1g2rC80blC",
        "outputId": "977de1cc-8d0d-4dbe-a345-ea9dd84bb5a8"
      },
      "execution_count": 13,
      "outputs": [
        {
          "output_type": "execute_result",
          "data": {
            "text/plain": [
              "[20, 30, 40]"
            ]
          },
          "metadata": {},
          "execution_count": 13
        }
      ]
    },
    {
      "cell_type": "code",
      "source": [
        "list1[3:]"
      ],
      "metadata": {
        "colab": {
          "base_uri": "https://localhost:8080/"
        },
        "id": "Me0jGpDI0jdZ",
        "outputId": "4a7efe2f-bc62-4369-dccd-00be4dc95f6d"
      },
      "execution_count": 14,
      "outputs": [
        {
          "output_type": "execute_result",
          "data": {
            "text/plain": [
              "[40, 50]"
            ]
          },
          "metadata": {},
          "execution_count": 14
        }
      ]
    },
    {
      "cell_type": "code",
      "source": [
        "list1[:3]"
      ],
      "metadata": {
        "colab": {
          "base_uri": "https://localhost:8080/"
        },
        "id": "0M0hKDaj0sRe",
        "outputId": "15a4a274-f84c-4828-884b-e229448961da"
      },
      "execution_count": 15,
      "outputs": [
        {
          "output_type": "execute_result",
          "data": {
            "text/plain": [
              "[10, 20, 30]"
            ]
          },
          "metadata": {},
          "execution_count": 15
        }
      ]
    },
    {
      "cell_type": "markdown",
      "source": [
        "# Deleting Values in List"
      ],
      "metadata": {
        "id": "tY6k18S000rQ"
      }
    },
    {
      "cell_type": "code",
      "source": [
        "list1=[10,20,30,40,50]\n",
        "list1"
      ],
      "metadata": {
        "colab": {
          "base_uri": "https://localhost:8080/"
        },
        "id": "aNxDs3jr04qm",
        "outputId": "221cc598-8479-44fd-8f15-fede1e5b5965"
      },
      "execution_count": 16,
      "outputs": [
        {
          "output_type": "execute_result",
          "data": {
            "text/plain": [
              "[10, 20, 30, 40, 50]"
            ]
          },
          "metadata": {},
          "execution_count": 16
        }
      ]
    },
    {
      "cell_type": "markdown",
      "source": [
        "## Using pop() method without index"
      ],
      "metadata": {
        "id": "0qU06ZT21b45"
      }
    },
    {
      "cell_type": "code",
      "source": [],
      "metadata": {
        "id": "231zfh4lGpQ7"
      },
      "execution_count": 16,
      "outputs": []
    },
    {
      "cell_type": "code",
      "source": [
        "list1.pop()\n",
        "list1"
      ],
      "metadata": {
        "colab": {
          "base_uri": "https://localhost:8080/"
        },
        "id": "XyufAISW1MdJ",
        "outputId": "af9aa263-0919-47c5-a8cc-68af61bfc5a1"
      },
      "execution_count": 17,
      "outputs": [
        {
          "output_type": "execute_result",
          "data": {
            "text/plain": [
              "[10, 20, 30, 40]"
            ]
          },
          "metadata": {},
          "execution_count": 17
        }
      ]
    },
    {
      "cell_type": "markdown",
      "source": [
        "## Using pop() method with index"
      ],
      "metadata": {
        "id": "xCBDW1PS1yw5"
      }
    },
    {
      "cell_type": "code",
      "source": [
        "list1.pop(1)\n",
        "list1"
      ],
      "metadata": {
        "colab": {
          "base_uri": "https://localhost:8080/"
        },
        "id": "SSunQ8Bi1y9M",
        "outputId": "0f4f08a2-5766-4a16-dce6-c09a9f597cb1"
      },
      "execution_count": 18,
      "outputs": [
        {
          "output_type": "execute_result",
          "data": {
            "text/plain": [
              "[10, 30, 40]"
            ]
          },
          "metadata": {},
          "execution_count": 18
        }
      ]
    },
    {
      "cell_type": "markdown",
      "source": [
        "## Using del() with index method"
      ],
      "metadata": {
        "id": "UpAzgIZ72GXf"
      }
    },
    {
      "cell_type": "code",
      "source": [
        "list2=[60,70,80,90,100]\n",
        "list2"
      ],
      "metadata": {
        "colab": {
          "base_uri": "https://localhost:8080/"
        },
        "id": "2Xt40vBM2Glc",
        "outputId": "3f45cb2d-23bb-4543-b35e-e0e50b53e961"
      },
      "execution_count": 19,
      "outputs": [
        {
          "output_type": "execute_result",
          "data": {
            "text/plain": [
              "[60, 70, 80, 90, 100]"
            ]
          },
          "metadata": {},
          "execution_count": 19
        }
      ]
    },
    {
      "cell_type": "code",
      "source": [
        "del(list2[0])\n",
        "list2"
      ],
      "metadata": {
        "colab": {
          "base_uri": "https://localhost:8080/"
        },
        "id": "SxmbW0NY2l0s",
        "outputId": "11e4d7ae-8dcf-40f5-d873-3ff1c6644279"
      },
      "execution_count": 20,
      "outputs": [
        {
          "output_type": "execute_result",
          "data": {
            "text/plain": [
              "[70, 80, 90, 100]"
            ]
          },
          "metadata": {},
          "execution_count": 20
        }
      ]
    },
    {
      "cell_type": "markdown",
      "source": [
        "## Using del with index method"
      ],
      "metadata": {
        "id": "fcqZrZ873Kh3"
      }
    },
    {
      "cell_type": "code",
      "source": [
        "del list2[2]\n",
        "list2"
      ],
      "metadata": {
        "colab": {
          "base_uri": "https://localhost:8080/"
        },
        "id": "FB3LiJax3KtK",
        "outputId": "b5d31393-18d2-47b0-e2eb-e9eef77497c7"
      },
      "execution_count": 21,
      "outputs": [
        {
          "output_type": "execute_result",
          "data": {
            "text/plain": [
              "[70, 80, 100]"
            ]
          },
          "metadata": {},
          "execution_count": 21
        }
      ]
    },
    {
      "cell_type": "markdown",
      "source": [
        "## Using del without index method"
      ],
      "metadata": {
        "id": "rxlaNcAn3nqg"
      }
    },
    {
      "cell_type": "code",
      "source": [
        "del list2\n",
        "list2"
      ],
      "metadata": {
        "colab": {
          "base_uri": "https://localhost:8080/",
          "height": 158
        },
        "id": "d5fOZujp30HO",
        "outputId": "6b7def64-22df-4982-f5c6-ae496238fb98"
      },
      "execution_count": 22,
      "outputs": [
        {
          "output_type": "error",
          "ename": "NameError",
          "evalue": "name 'list2' is not defined",
          "traceback": [
            "\u001b[0;31m---------------------------------------------------------------------------\u001b[0m",
            "\u001b[0;31mNameError\u001b[0m                                 Traceback (most recent call last)",
            "\u001b[0;32m<ipython-input-22-7658c1aceea1>\u001b[0m in \u001b[0;36m<cell line: 2>\u001b[0;34m()\u001b[0m\n\u001b[1;32m      1\u001b[0m \u001b[0;32mdel\u001b[0m \u001b[0mlist2\u001b[0m\u001b[0;34m\u001b[0m\u001b[0;34m\u001b[0m\u001b[0m\n\u001b[0;32m----> 2\u001b[0;31m \u001b[0mlist2\u001b[0m\u001b[0;34m\u001b[0m\u001b[0;34m\u001b[0m\u001b[0m\n\u001b[0m",
            "\u001b[0;31mNameError\u001b[0m: name 'list2' is not defined"
          ]
        }
      ]
    },
    {
      "cell_type": "markdown",
      "source": [
        "## Using remove() method"
      ],
      "metadata": {
        "id": "0Oif4khB4NfM"
      }
    },
    {
      "cell_type": "code",
      "source": [
        "list3=['a','b','c','d']\n",
        "list3"
      ],
      "metadata": {
        "colab": {
          "base_uri": "https://localhost:8080/"
        },
        "id": "qQsGshaA4Y6o",
        "outputId": "761b0649-a91b-422f-e2c2-0fc2e9cace06"
      },
      "execution_count": 23,
      "outputs": [
        {
          "output_type": "execute_result",
          "data": {
            "text/plain": [
              "['a', 'b', 'c', 'd']"
            ]
          },
          "metadata": {},
          "execution_count": 23
        }
      ]
    },
    {
      "cell_type": "code",
      "source": [
        "list3.remove('d')\n",
        "list3"
      ],
      "metadata": {
        "colab": {
          "base_uri": "https://localhost:8080/"
        },
        "id": "-m4r4uoL4cr4",
        "outputId": "d9e18c07-8276-423c-88e7-27fb8ddb61cf"
      },
      "execution_count": 24,
      "outputs": [
        {
          "output_type": "execute_result",
          "data": {
            "text/plain": [
              "['a', 'b', 'c']"
            ]
          },
          "metadata": {},
          "execution_count": 24
        }
      ]
    },
    {
      "cell_type": "markdown",
      "source": [
        "# Updating List (Change a List)"
      ],
      "metadata": {
        "id": "9OlzQkUN4p_N"
      }
    },
    {
      "cell_type": "code",
      "source": [
        "list1=[10,20,30,40,50]\n",
        "list1"
      ],
      "metadata": {
        "colab": {
          "base_uri": "https://localhost:8080/"
        },
        "id": "DwbtRhUE4qMu",
        "outputId": "b31c1829-257b-4b26-bd97-8f70e8f09f1a"
      },
      "execution_count": 25,
      "outputs": [
        {
          "output_type": "execute_result",
          "data": {
            "text/plain": [
              "[10, 20, 30, 40, 50]"
            ]
          },
          "metadata": {},
          "execution_count": 25
        }
      ]
    },
    {
      "cell_type": "markdown",
      "source": [
        "##Change 0th index element"
      ],
      "metadata": {
        "id": "rZdmtn8_5a-n"
      }
    },
    {
      "cell_type": "code",
      "source": [
        "list1[0]=5\n",
        "list1"
      ],
      "metadata": {
        "colab": {
          "base_uri": "https://localhost:8080/"
        },
        "id": "TkGoaqWC5hQH",
        "outputId": "1b6d924d-a52d-43d1-a958-e01d5261d43f"
      },
      "execution_count": 26,
      "outputs": [
        {
          "output_type": "execute_result",
          "data": {
            "text/plain": [
              "[5, 20, 30, 40, 50]"
            ]
          },
          "metadata": {},
          "execution_count": 26
        }
      ]
    },
    {
      "cell_type": "markdown",
      "source": [
        "## Change last index element"
      ],
      "metadata": {
        "id": "yp9NFxqL5vAJ"
      }
    },
    {
      "cell_type": "code",
      "source": [
        "list1[-1]=35\n",
        "list1"
      ],
      "metadata": {
        "colab": {
          "base_uri": "https://localhost:8080/"
        },
        "id": "iUGXSWlE5071",
        "outputId": "87674178-444a-4b68-bf40-11d9918855ad"
      },
      "execution_count": 27,
      "outputs": [
        {
          "output_type": "execute_result",
          "data": {
            "text/plain": [
              "[5, 20, 30, 40, 35]"
            ]
          },
          "metadata": {},
          "execution_count": 27
        }
      ]
    },
    {
      "cell_type": "markdown",
      "source": [
        "#Updating List (Adding element to a List)"
      ],
      "metadata": {
        "id": "HMpQq2Th6Lg8"
      }
    },
    {
      "cell_type": "markdown",
      "source": [
        "## Using apend() method"
      ],
      "metadata": {
        "id": "aYjHuxTY6m8K"
      }
    },
    {
      "cell_type": "code",
      "source": [
        "list1=[10,20,30,40,50]\n",
        "list1"
      ],
      "metadata": {
        "colab": {
          "base_uri": "https://localhost:8080/"
        },
        "id": "Pnz3mPKh6YwY",
        "outputId": "b8db5dcc-ac24-46cb-9298-73fe33711022"
      },
      "execution_count": 28,
      "outputs": [
        {
          "output_type": "execute_result",
          "data": {
            "text/plain": [
              "[10, 20, 30, 40, 50]"
            ]
          },
          "metadata": {},
          "execution_count": 28
        }
      ]
    },
    {
      "cell_type": "code",
      "source": [
        "list1.append(60)\n",
        "list1"
      ],
      "metadata": {
        "colab": {
          "base_uri": "https://localhost:8080/"
        },
        "id": "HYELiyPw6x48",
        "outputId": "3d0e9348-67bb-4dae-8c7a-07040087910c"
      },
      "execution_count": 29,
      "outputs": [
        {
          "output_type": "execute_result",
          "data": {
            "text/plain": [
              "[10, 20, 30, 40, 50, 60]"
            ]
          },
          "metadata": {},
          "execution_count": 29
        }
      ]
    },
    {
      "cell_type": "markdown",
      "source": [
        "##Using extend() method"
      ],
      "metadata": {
        "id": "_PU8-VQe64Xb"
      }
    },
    {
      "cell_type": "code",
      "source": [
        "list1.extend([70,80,90])\n",
        "list1"
      ],
      "metadata": {
        "colab": {
          "base_uri": "https://localhost:8080/"
        },
        "id": "6nbQC-Wx677Z",
        "outputId": "eb0c66ae-fb06-4b2c-b191-af0c0077aff3"
      },
      "execution_count": 30,
      "outputs": [
        {
          "output_type": "execute_result",
          "data": {
            "text/plain": [
              "[10, 20, 30, 40, 50, 60, 70, 80, 90]"
            ]
          },
          "metadata": {},
          "execution_count": 30
        }
      ]
    },
    {
      "cell_type": "markdown",
      "source": [
        "##Using insert() method"
      ],
      "metadata": {
        "id": "YLNnf7El7D2p"
      }
    },
    {
      "cell_type": "code",
      "source": [
        "list1.insert(-1,100)\n",
        "list1"
      ],
      "metadata": {
        "colab": {
          "base_uri": "https://localhost:8080/"
        },
        "id": "elQ9SqjF7Hs2",
        "outputId": "febf048b-0c97-4c36-e580-1a8d26c11713"
      },
      "execution_count": 31,
      "outputs": [
        {
          "output_type": "execute_result",
          "data": {
            "text/plain": [
              "[10, 20, 30, 40, 50, 60, 70, 80, 100, 90]"
            ]
          },
          "metadata": {},
          "execution_count": 31
        }
      ]
    },
    {
      "cell_type": "code",
      "source": [
        "list1.insert(0,[0,5])\n",
        "list1"
      ],
      "metadata": {
        "colab": {
          "base_uri": "https://localhost:8080/"
        },
        "id": "vf0UZZOO7x8T",
        "outputId": "f6eec0df-1163-495c-8931-7fd5a5319a9e"
      },
      "execution_count": 32,
      "outputs": [
        {
          "output_type": "execute_result",
          "data": {
            "text/plain": [
              "[[0, 5], 10, 20, 30, 40, 50, 60, 70, 80, 100, 90]"
            ]
          },
          "metadata": {},
          "execution_count": 32
        }
      ]
    },
    {
      "cell_type": "markdown",
      "source": [
        "## Using + operator to combine list"
      ],
      "metadata": {
        "id": "dhr4nevR8Hk_"
      }
    },
    {
      "cell_type": "code",
      "source": [
        "list1=[10,20,30,40,50]\n",
        "list1"
      ],
      "metadata": {
        "colab": {
          "base_uri": "https://localhost:8080/"
        },
        "id": "rsBt1ZfL8H3d",
        "outputId": "26377408-c8f3-4114-9a1e-0d63bfaf3d40"
      },
      "execution_count": 33,
      "outputs": [
        {
          "output_type": "execute_result",
          "data": {
            "text/plain": [
              "[10, 20, 30, 40, 50]"
            ]
          },
          "metadata": {},
          "execution_count": 33
        }
      ]
    },
    {
      "cell_type": "code",
      "source": [
        "list2=[60,70,80,90,100]\n",
        "list2"
      ],
      "metadata": {
        "colab": {
          "base_uri": "https://localhost:8080/"
        },
        "id": "nhjJfFTa8Yim",
        "outputId": "61041a86-1afb-44bb-e20b-cdab2b50ab70"
      },
      "execution_count": 36,
      "outputs": [
        {
          "output_type": "execute_result",
          "data": {
            "text/plain": [
              "[60, 70, 80, 90, 100]"
            ]
          },
          "metadata": {},
          "execution_count": 36
        }
      ]
    },
    {
      "cell_type": "code",
      "source": [
        "list3=list1+list2\n",
        "list3"
      ],
      "metadata": {
        "colab": {
          "base_uri": "https://localhost:8080/"
        },
        "id": "DGsk_krm8Zo4",
        "outputId": "bfb1d2fb-b2a2-419d-bb50-ba3628f49e77"
      },
      "execution_count": 37,
      "outputs": [
        {
          "output_type": "execute_result",
          "data": {
            "text/plain": [
              "[10, 20, 30, 40, 50, 60, 70, 80, 90, 100]"
            ]
          },
          "metadata": {},
          "execution_count": 37
        }
      ]
    },
    {
      "cell_type": "markdown",
      "source": [
        "##Using * operator to repeat list element"
      ],
      "metadata": {
        "id": "R9mxMJnL8n3i"
      }
    },
    {
      "cell_type": "code",
      "source": [
        "list1=[10,20,30,40,50]\n",
        "list1"
      ],
      "metadata": {
        "colab": {
          "base_uri": "https://localhost:8080/"
        },
        "id": "2VX8t6Tc8u5B",
        "outputId": "f11e6f89-7650-4a98-a9ca-7d22d4b7cd42"
      },
      "execution_count": 35,
      "outputs": [
        {
          "output_type": "execute_result",
          "data": {
            "text/plain": [
              "[10, 20, 30, 40, 50]"
            ]
          },
          "metadata": {},
          "execution_count": 35
        }
      ]
    },
    {
      "cell_type": "code",
      "source": [
        "list2=list1*3\n",
        "list2"
      ],
      "metadata": {
        "colab": {
          "base_uri": "https://localhost:8080/"
        },
        "id": "Zfa7Ts-m8x80",
        "outputId": "c45f5d3d-c335-4269-de55-bcd5c3f5cd2b"
      },
      "execution_count": 38,
      "outputs": [
        {
          "output_type": "execute_result",
          "data": {
            "text/plain": [
              "[10, 20, 30, 40, 50, 10, 20, 30, 40, 50, 10, 20, 30, 40, 50]"
            ]
          },
          "metadata": {},
          "execution_count": 38
        }
      ]
    },
    {
      "cell_type": "markdown",
      "source": [
        "# Sort List Elements"
      ],
      "metadata": {
        "id": "s3oRT2jk878r"
      }
    },
    {
      "cell_type": "code",
      "source": [
        "list1=[10,20,30,40,50]\n",
        "list1"
      ],
      "metadata": {
        "colab": {
          "base_uri": "https://localhost:8080/"
        },
        "id": "gatZWaXK9Dmd",
        "outputId": "ab24e2f5-ab32-4984-ba91-83da4613df73"
      },
      "execution_count": 39,
      "outputs": [
        {
          "output_type": "execute_result",
          "data": {
            "text/plain": [
              "[10, 20, 30, 40, 50]"
            ]
          },
          "metadata": {},
          "execution_count": 39
        }
      ]
    },
    {
      "cell_type": "markdown",
      "source": [
        "##Forward sorting"
      ],
      "metadata": {
        "id": "bvJMhiM79YJN"
      }
    },
    {
      "cell_type": "code",
      "source": [
        "list1.sort()\n",
        "list1"
      ],
      "metadata": {
        "colab": {
          "base_uri": "https://localhost:8080/"
        },
        "id": "qVJxe3p-9sQi",
        "outputId": "0c0d0e8b-3bbb-4069-bc63-dd790a417740"
      },
      "execution_count": 40,
      "outputs": [
        {
          "output_type": "execute_result",
          "data": {
            "text/plain": [
              "[10, 20, 30, 40, 50]"
            ]
          },
          "metadata": {},
          "execution_count": 40
        }
      ]
    },
    {
      "cell_type": "markdown",
      "source": [
        "##Reverse sorting"
      ],
      "metadata": {
        "id": "-9bqrAkZ93s8"
      }
    },
    {
      "cell_type": "code",
      "source": [
        "list1.sort(reverse=True)\n",
        "list1"
      ],
      "metadata": {
        "colab": {
          "base_uri": "https://localhost:8080/"
        },
        "id": "Qu1x_SlI935I",
        "outputId": "1d18706e-724e-42e6-9572-34445e1ca7bb"
      },
      "execution_count": 41,
      "outputs": [
        {
          "output_type": "execute_result",
          "data": {
            "text/plain": [
              "[50, 40, 30, 20, 10]"
            ]
          },
          "metadata": {},
          "execution_count": 41
        }
      ]
    },
    {
      "cell_type": "markdown",
      "source": [
        "#List Operation - Indexing"
      ],
      "metadata": {
        "id": "QsbwoM4y-Lbx"
      }
    },
    {
      "cell_type": "markdown",
      "source": [
        "## Positive Indexing"
      ],
      "metadata": {
        "id": "AWo7E_hm-0mn"
      }
    },
    {
      "cell_type": "code",
      "source": [
        "list1=[10,20,30,40,50]\n",
        "list1"
      ],
      "metadata": {
        "colab": {
          "base_uri": "https://localhost:8080/"
        },
        "id": "mU5i6g9F-QUK",
        "outputId": "aca62856-e5f3-4c1b-c33a-888af4b9349a"
      },
      "execution_count": 42,
      "outputs": [
        {
          "output_type": "execute_result",
          "data": {
            "text/plain": [
              "[10, 20, 30, 40, 50]"
            ]
          },
          "metadata": {},
          "execution_count": 42
        }
      ]
    },
    {
      "cell_type": "code",
      "source": [
        "list1[0]"
      ],
      "metadata": {
        "colab": {
          "base_uri": "https://localhost:8080/"
        },
        "id": "QylylwQ5-avC",
        "outputId": "bb4ef90c-a30d-4cc9-ff15-366e592b2a91"
      },
      "execution_count": 43,
      "outputs": [
        {
          "output_type": "execute_result",
          "data": {
            "text/plain": [
              "10"
            ]
          },
          "metadata": {},
          "execution_count": 43
        }
      ]
    },
    {
      "cell_type": "code",
      "source": [
        "list1[3:]"
      ],
      "metadata": {
        "colab": {
          "base_uri": "https://localhost:8080/"
        },
        "id": "rGFqWH5m-fqH",
        "outputId": "60e4b7fc-72a0-422f-b331-1561150eb738"
      },
      "execution_count": 44,
      "outputs": [
        {
          "output_type": "execute_result",
          "data": {
            "text/plain": [
              "[40, 50]"
            ]
          },
          "metadata": {},
          "execution_count": 44
        }
      ]
    },
    {
      "cell_type": "code",
      "source": [
        "list1[:3]"
      ],
      "metadata": {
        "colab": {
          "base_uri": "https://localhost:8080/"
        },
        "id": "RXuNANbZ-kDc",
        "outputId": "3a866dba-c339-47b2-e830-0e71929a6e3e"
      },
      "execution_count": 45,
      "outputs": [
        {
          "output_type": "execute_result",
          "data": {
            "text/plain": [
              "[10, 20, 30]"
            ]
          },
          "metadata": {},
          "execution_count": 45
        }
      ]
    },
    {
      "cell_type": "code",
      "source": [
        "list1[1:3]"
      ],
      "metadata": {
        "colab": {
          "base_uri": "https://localhost:8080/"
        },
        "id": "2eO2Blxn-nW4",
        "outputId": "8ffa4c31-eabf-4f2b-d6ac-be46b4e766e2"
      },
      "execution_count": 46,
      "outputs": [
        {
          "output_type": "execute_result",
          "data": {
            "text/plain": [
              "[20, 30]"
            ]
          },
          "metadata": {},
          "execution_count": 46
        }
      ]
    },
    {
      "cell_type": "markdown",
      "source": [
        "##Negative Indexing"
      ],
      "metadata": {
        "id": "ID8-S2oR-4MW"
      }
    },
    {
      "cell_type": "code",
      "source": [
        "list2=[60,70,80,90,100]\n",
        "list2"
      ],
      "metadata": {
        "colab": {
          "base_uri": "https://localhost:8080/"
        },
        "id": "rPgu__u7-6jm",
        "outputId": "d1d1cee2-e38a-4bf8-dcf1-c5b7c5180b2c"
      },
      "execution_count": 47,
      "outputs": [
        {
          "output_type": "execute_result",
          "data": {
            "text/plain": [
              "[60, 70, 80, 90, 100]"
            ]
          },
          "metadata": {},
          "execution_count": 47
        }
      ]
    },
    {
      "cell_type": "code",
      "source": [
        "list2[-1]"
      ],
      "metadata": {
        "colab": {
          "base_uri": "https://localhost:8080/"
        },
        "id": "NjL16Kfz--zV",
        "outputId": "e4f4ce54-74dd-480a-e32b-de54a21d4ec1"
      },
      "execution_count": 48,
      "outputs": [
        {
          "output_type": "execute_result",
          "data": {
            "text/plain": [
              "100"
            ]
          },
          "metadata": {},
          "execution_count": 48
        }
      ]
    },
    {
      "cell_type": "code",
      "source": [
        "list2[-3]"
      ],
      "metadata": {
        "colab": {
          "base_uri": "https://localhost:8080/"
        },
        "id": "WGyHt3w8_DLL",
        "outputId": "5528afc4-b488-405c-8da9-6ac42c1a3c16"
      },
      "execution_count": 49,
      "outputs": [
        {
          "output_type": "execute_result",
          "data": {
            "text/plain": [
              "80"
            ]
          },
          "metadata": {},
          "execution_count": 49
        }
      ]
    },
    {
      "cell_type": "code",
      "source": [
        "list2[-3:]"
      ],
      "metadata": {
        "colab": {
          "base_uri": "https://localhost:8080/"
        },
        "id": "Pc5ysbz1_HFW",
        "outputId": "a236826d-37a8-4adb-c603-42e1e8db3c8b"
      },
      "execution_count": 50,
      "outputs": [
        {
          "output_type": "execute_result",
          "data": {
            "text/plain": [
              "[80, 90, 100]"
            ]
          },
          "metadata": {},
          "execution_count": 50
        }
      ]
    },
    {
      "cell_type": "code",
      "source": [
        "list2[:-3]"
      ],
      "metadata": {
        "colab": {
          "base_uri": "https://localhost:8080/"
        },
        "id": "OGhGU0tq_LDq",
        "outputId": "4dbfecfb-c895-4218-a012-0d829b2ec9ae"
      },
      "execution_count": 51,
      "outputs": [
        {
          "output_type": "execute_result",
          "data": {
            "text/plain": [
              "[60, 70]"
            ]
          },
          "metadata": {},
          "execution_count": 51
        }
      ]
    },
    {
      "cell_type": "code",
      "source": [
        "list2[-3:-1]"
      ],
      "metadata": {
        "colab": {
          "base_uri": "https://localhost:8080/"
        },
        "id": "J_y5EQNp_OnB",
        "outputId": "0631a70f-8eaf-40fd-e8a7-5392ea080798"
      },
      "execution_count": 52,
      "outputs": [
        {
          "output_type": "execute_result",
          "data": {
            "text/plain": [
              "[80, 90]"
            ]
          },
          "metadata": {},
          "execution_count": 52
        }
      ]
    },
    {
      "cell_type": "markdown",
      "source": [
        "#List Operation - Slicing"
      ],
      "metadata": {
        "id": "s70KCf7y_ZCx"
      }
    },
    {
      "cell_type": "code",
      "source": [
        "list1[::-1]"
      ],
      "metadata": {
        "colab": {
          "base_uri": "https://localhost:8080/"
        },
        "id": "dasolzHOBNWc",
        "outputId": "1aa8d7c9-e53a-45ba-915c-7352a7b0e7bb"
      },
      "execution_count": 53,
      "outputs": [
        {
          "output_type": "execute_result",
          "data": {
            "text/plain": [
              "[50, 40, 30, 20, 10]"
            ]
          },
          "metadata": {},
          "execution_count": 53
        }
      ]
    },
    {
      "cell_type": "code",
      "source": [
        "list1[-1:-4:-1]"
      ],
      "metadata": {
        "colab": {
          "base_uri": "https://localhost:8080/"
        },
        "id": "juZe7abOBU8n",
        "outputId": "2bd826aa-e4c1-418e-c009-6d75f8896128"
      },
      "execution_count": 55,
      "outputs": [
        {
          "output_type": "execute_result",
          "data": {
            "text/plain": [
              "[50, 40, 30]"
            ]
          },
          "metadata": {},
          "execution_count": 55
        }
      ]
    },
    {
      "cell_type": "code",
      "source": [
        "list1[-1:0:-1]"
      ],
      "metadata": {
        "colab": {
          "base_uri": "https://localhost:8080/"
        },
        "id": "rj3Sx61CBZgc",
        "outputId": "2e3181be-5c7e-449c-ec81-0a4b1166f4f7"
      },
      "execution_count": 54,
      "outputs": [
        {
          "output_type": "execute_result",
          "data": {
            "text/plain": [
              "[50, 40, 30, 20]"
            ]
          },
          "metadata": {},
          "execution_count": 54
        }
      ]
    },
    {
      "cell_type": "markdown",
      "source": [
        "# Built-in Functions and Methods for List in Python"
      ],
      "metadata": {
        "id": "N-ZeU2dfBuNS"
      }
    },
    {
      "cell_type": "code",
      "source": [
        "list1=[10,20,30,40,50,60,70,80,90,100]\n",
        "list1"
      ],
      "metadata": {
        "colab": {
          "base_uri": "https://localhost:8080/"
        },
        "id": "9UQ1FsZ4B2_e",
        "outputId": "f1f1b0f1-e0a1-4b32-877b-d87c3bf260f9"
      },
      "execution_count": 56,
      "outputs": [
        {
          "output_type": "execute_result",
          "data": {
            "text/plain": [
              "[10, 20, 30, 40, 50, 60, 70, 80, 90, 100]"
            ]
          },
          "metadata": {},
          "execution_count": 56
        }
      ]
    },
    {
      "cell_type": "code",
      "source": [
        "len(list1)"
      ],
      "metadata": {
        "colab": {
          "base_uri": "https://localhost:8080/"
        },
        "id": "FA7Eew0pB77C",
        "outputId": "e2e598be-402a-4bb7-8cb8-6a0df4fbada9"
      },
      "execution_count": 57,
      "outputs": [
        {
          "output_type": "execute_result",
          "data": {
            "text/plain": [
              "10"
            ]
          },
          "metadata": {},
          "execution_count": 57
        }
      ]
    },
    {
      "cell_type": "code",
      "source": [
        "max(list1)"
      ],
      "metadata": {
        "colab": {
          "base_uri": "https://localhost:8080/"
        },
        "id": "w5Ru4yitB8AK",
        "outputId": "31dbfa80-aa83-48c5-a112-ee0b4ffb655e"
      },
      "execution_count": 58,
      "outputs": [
        {
          "output_type": "execute_result",
          "data": {
            "text/plain": [
              "100"
            ]
          },
          "metadata": {},
          "execution_count": 58
        }
      ]
    },
    {
      "cell_type": "code",
      "source": [
        "min(list1)"
      ],
      "metadata": {
        "colab": {
          "base_uri": "https://localhost:8080/"
        },
        "id": "sU7FycMVB8Ck",
        "outputId": "aa7f1967-6331-4a35-eae7-c9781b552fb1"
      },
      "execution_count": 59,
      "outputs": [
        {
          "output_type": "execute_result",
          "data": {
            "text/plain": [
              "10"
            ]
          },
          "metadata": {},
          "execution_count": 59
        }
      ]
    },
    {
      "cell_type": "code",
      "source": [
        "sum(list1)"
      ],
      "metadata": {
        "colab": {
          "base_uri": "https://localhost:8080/"
        },
        "id": "iMnGhISgB8HA",
        "outputId": "0c7da4cb-1b72-4513-aab9-65b35c7afcf0"
      },
      "execution_count": 60,
      "outputs": [
        {
          "output_type": "execute_result",
          "data": {
            "text/plain": [
              "550"
            ]
          },
          "metadata": {},
          "execution_count": 60
        }
      ]
    },
    {
      "cell_type": "code",
      "source": [
        "list1.append(100)\n",
        "list1"
      ],
      "metadata": {
        "colab": {
          "base_uri": "https://localhost:8080/"
        },
        "id": "dI5eM1aPB8Kd",
        "outputId": "2745d1ec-d782-4cbc-8ce6-86f1bdaa3bcf"
      },
      "execution_count": 61,
      "outputs": [
        {
          "output_type": "execute_result",
          "data": {
            "text/plain": [
              "[10, 20, 30, 40, 50, 60, 70, 80, 90, 100, 100]"
            ]
          },
          "metadata": {},
          "execution_count": 61
        }
      ]
    },
    {
      "cell_type": "code",
      "source": [
        "list1.count(100)"
      ],
      "metadata": {
        "colab": {
          "base_uri": "https://localhost:8080/"
        },
        "id": "U9xh0teUCWAH",
        "outputId": "b9330a6e-16d6-4c58-b56b-2defe1cf3163"
      },
      "execution_count": 62,
      "outputs": [
        {
          "output_type": "execute_result",
          "data": {
            "text/plain": [
              "2"
            ]
          },
          "metadata": {},
          "execution_count": 62
        }
      ]
    },
    {
      "cell_type": "code",
      "source": [
        "list1.index(100)"
      ],
      "metadata": {
        "colab": {
          "base_uri": "https://localhost:8080/"
        },
        "id": "bc6RNDDfCj0q",
        "outputId": "dd7c5595-7d91-48b5-b628-48992f48deeb"
      },
      "execution_count": 63,
      "outputs": [
        {
          "output_type": "execute_result",
          "data": {
            "text/plain": [
              "9"
            ]
          },
          "metadata": {},
          "execution_count": 63
        }
      ]
    }
  ]
}